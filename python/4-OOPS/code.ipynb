{
 "cells": [
  {
   "cell_type": "markdown",
   "metadata": {},
   "source": [
    "# Classes and Objects\n",
    "\n",
    "Object-Oriented Programming (OOP) is a programming paradigm that uses \"objects\" to design application and computer programs. OOP allows for modeling  real-world scenarios using classes and objects. This lesson covers the basics of creating classes and objects, including instance variables and methods."
   ]
  },
  {
   "cell_type": "code",
   "execution_count": 1,
   "metadata": {},
   "outputs": [
    {
     "data": {
      "text/plain": [
       "__main__.Car"
      ]
     },
     "execution_count": 1,
     "metadata": {},
     "output_type": "execute_result"
    }
   ],
   "source": [
    "# A class is a blue print for creating objects. Attributes, methods.\n",
    "\n",
    "class Car :\n",
    "    pass\n",
    "\n",
    "audi= Car()\n",
    "bmw = Car()\n",
    "\n",
    "type(audi)\n",
    "\n",
    "\n"
   ]
  },
  {
   "cell_type": "code",
   "execution_count": 2,
   "metadata": {},
   "outputs": [
    {
     "name": "stdout",
     "output_type": "stream",
     "text": [
      "1\n"
     ]
    }
   ],
   "source": [
    "# INSTANCE variable and methods\n",
    "\n",
    "audi.windows = 1\n",
    "\n",
    "print(audi.windows)\n",
    " "
   ]
  },
  {
   "cell_type": "code",
   "execution_count": 4,
   "metadata": {},
   "outputs": [
    {
     "data": {
      "text/plain": [
       "['__class__',\n",
       " '__delattr__',\n",
       " '__dict__',\n",
       " '__dir__',\n",
       " '__doc__',\n",
       " '__eq__',\n",
       " '__format__',\n",
       " '__ge__',\n",
       " '__getattribute__',\n",
       " '__getstate__',\n",
       " '__gt__',\n",
       " '__hash__',\n",
       " '__init__',\n",
       " '__init_subclass__',\n",
       " '__le__',\n",
       " '__lt__',\n",
       " '__module__',\n",
       " '__ne__',\n",
       " '__new__',\n",
       " '__reduce__',\n",
       " '__reduce_ex__',\n",
       " '__repr__',\n",
       " '__setattr__',\n",
       " '__sizeof__',\n",
       " '__str__',\n",
       " '__subclasshook__',\n",
       " '__weakref__',\n",
       " 'windows']"
      ]
     },
     "execution_count": 4,
     "metadata": {},
     "output_type": "execute_result"
    }
   ],
   "source": [
    "dir(audi)  # gives attributes of the object"
   ]
  },
  {
   "cell_type": "code",
   "execution_count": 6,
   "metadata": {},
   "outputs": [
    {
     "name": "stdout",
     "output_type": "stream",
     "text": [
      "Buddy\n",
      "4\n"
     ]
    }
   ],
   "source": [
    "class Dog:\n",
    "    \n",
    "    ## constructor\n",
    "    \n",
    "    def __init__(self, name, age):\n",
    "        self.name =name\n",
    "        self.age = age\n",
    "        \n",
    "        \n",
    "dog1= Dog(\"Buddy\", 4)\n",
    "\n",
    "print(dog1.name)\n",
    "print(dog1.age)        "
   ]
  },
  {
   "cell_type": "code",
   "execution_count": 7,
   "metadata": {},
   "outputs": [
    {
     "name": "stdout",
     "output_type": "stream",
     "text": [
      "Hero says woof\n"
     ]
    }
   ],
   "source": [
    "# define a class with instance methods\n",
    "\n",
    "\n",
    "class Dog :\n",
    "    def __init__(self, name, age):\n",
    "        self.name = name\n",
    "        self.age = age\n",
    "    \n",
    "    def bark(self):\n",
    "        print(f\"{self.name} says woof\")\n",
    "\n",
    "dog1 = Dog('Hero', 8)\n",
    "dog1.bark()\n",
    "            "
   ]
  },
  {
   "cell_type": "code",
   "execution_count": 12,
   "metadata": {},
   "outputs": [
    {
     "name": "stdout",
     "output_type": "stream",
     "text": [
      "90rs has been deposited. New balance is 90rs\n",
      "Insufficient balance.\n",
      "10rs has been withdrawn. New balance is 80rs\n"
     ]
    }
   ],
   "source": [
    "# Modeling a bank account\n",
    "\n",
    "## define a class for bank account\n",
    "\n",
    "class BankAccount:\n",
    "    def __init__(self, owner,balance =0):\n",
    "        self.owner =owner\n",
    "        self.balance = balance\n",
    "    \n",
    "    def deposit(self,amount):\n",
    "        self.balance += amount\n",
    "        print(f'{amount}rs has been deposited. New balance is {self.balance}rs')\n",
    "    \n",
    "    def withdraw(self, amount):\n",
    "        if amount > self.balance:\n",
    "            print(\"Insufficient balance.\")\n",
    "        else:\n",
    "            self.balance -= amount\n",
    "            print(f'{amount}rs has been withdrawn. New balance is {self.balance}rs')  \n",
    "    def get_balance(self):\n",
    "        return self.balance        \n",
    "            \n",
    "acc = BankAccount(\"Hardik\")\n",
    "acc.deposit(90)\n",
    "acc.withdraw(100)\n",
    "acc.withdraw(10)                     "
   ]
  },
  {
   "cell_type": "markdown",
   "metadata": {},
   "source": [
    "## Inheritance\n",
    "\n",
    "* It is a concept in oops that allows a class to inherit attributes and methods from another class.\n",
    "\n"
   ]
  },
  {
   "cell_type": "code",
   "execution_count": 16,
   "metadata": {},
   "outputs": [],
   "source": [
    "class Car:\n",
    "    def __init__(self, windows, doors, engine_type):\n",
    "        self.windows = windows\n",
    "        self.doors = doors\n",
    "        self.engine_type =engine_type\n",
    "        \n",
    "    def drive(self):\n",
    "        print(f\"Turning on the {self.engine_type} car\")    \n",
    "        "
   ]
  },
  {
   "cell_type": "code",
   "execution_count": 17,
   "metadata": {},
   "outputs": [
    {
     "name": "stdout",
     "output_type": "stream",
     "text": [
      "Turning on the petrol car\n"
     ]
    }
   ],
   "source": [
    "car1 = Car(4, 5, 'petrol')\n",
    "car1.drive()"
   ]
  },
  {
   "cell_type": "code",
   "execution_count": 18,
   "metadata": {},
   "outputs": [],
   "source": [
    "class Tesla(Car):\n",
    "    def __init__(self,windows, doors, engine_type, is_self_driving):\n",
    "        super().__init__(windows, doors, engine_type)\n",
    "        self.is_self_driving = is_self_driving\n",
    "    \n",
    "    def self_driving(self):\n",
    "        print(f\"Tesla Supports {self.is_self_driving}\")  \n",
    "          \n",
    "    "
   ]
  },
  {
   "cell_type": "code",
   "execution_count": 19,
   "metadata": {},
   "outputs": [
    {
     "name": "stdout",
     "output_type": "stream",
     "text": [
      "Tesla Supports True\n"
     ]
    }
   ],
   "source": [
    "tesla1 = Tesla(4,5,\"electric\", True)\n",
    "\n",
    "tesla1.self_driving()"
   ]
  },
  {
   "cell_type": "code",
   "execution_count": 20,
   "metadata": {},
   "outputs": [
    {
     "name": "stdout",
     "output_type": "stream",
     "text": [
      "Turning on the electric car\n"
     ]
    }
   ],
   "source": [
    "tesla1.drive()"
   ]
  },
  {
   "cell_type": "code",
   "execution_count": 24,
   "metadata": {},
   "outputs": [
    {
     "name": "stdout",
     "output_type": "stream",
     "text": [
      "Buddy says woof\n",
      "Owner : Hardik\n"
     ]
    }
   ],
   "source": [
    "## multiple inheritance\n",
    "## when a class inherits from more than one base class\n",
    "\n",
    "# Base class 1\n",
    "class Animal:\n",
    "    def __init__(self,name):\n",
    "        self.name = name\n",
    "    def speak(self):\n",
    "        print(\"Subclass must implement this method\")\n",
    "        \n",
    "\n",
    "# Base class 2\n",
    "\n",
    "class Pet :\n",
    "    def __init__(self, owner):\n",
    "        self.owner = owner\n",
    "\n",
    "\n",
    "## Derived Class\n",
    "\n",
    "class Dog(Animal, Pet):\n",
    "    def __init__(self, name, owner) :\n",
    "        Animal.__init__(self,name)\n",
    "        Pet.__init__(self,owner)\n",
    "     \n",
    "    \n",
    "    def speak(self):\n",
    "        return f\"{self.name} says woof\"\n",
    "    \n",
    "    \n",
    "dog = Dog(\"Buddy\", \"Hardik\")\n",
    "\n",
    "\n",
    "print(dog.speak())   \n",
    "print(f\"Owner : {dog.owner}\" )  \n",
    "        \n",
    "            "
   ]
  },
  {
   "cell_type": "markdown",
   "metadata": {},
   "source": [
    "## Polymorphism\n",
    "\n",
    "Method overriding allows a child class to provide a specific implementation of a method that is already defined in its parent class.\n"
   ]
  },
  {
   "cell_type": "code",
   "execution_count": 26,
   "metadata": {},
   "outputs": [
    {
     "name": "stdout",
     "output_type": "stream",
     "text": [
      "Woof!\n",
      "Meow!\n",
      "Woof!\n"
     ]
    }
   ],
   "source": [
    "## Method Overriding\n",
    "\n",
    "# Base class\n",
    "\n",
    "class Animal:\n",
    "    \n",
    "    def speak(self):\n",
    "        return \"Sound of the animal\"\n",
    "    \n",
    "class Dog(Animal):\n",
    "    def speak(self):\n",
    "        return \"Woof!\"\n",
    "    \n",
    "class Cat(Animal):\n",
    "    def speak(self):\n",
    "        return \"Meow!\"  \n",
    "    \n",
    "    \n",
    "# function that demonstrates polymorphism     \n",
    "\n",
    "def animal_speak(animal):\n",
    "    print(animal.speak())\n",
    "     \n",
    "    \n",
    "dog = Dog()  \n",
    "cat = Cat()\n",
    "\n",
    "print(dog.speak())\n",
    "print(cat.speak())  \n",
    "animal_speak(dog)\n",
    "        \n"
   ]
  },
  {
   "cell_type": "code",
   "execution_count": 28,
   "metadata": {},
   "outputs": [
    {
     "name": "stdout",
     "output_type": "stream",
     "text": [
      "The area is 12\n",
      "The area is 28.26\n"
     ]
    }
   ],
   "source": [
    "### polymorphism with functions and methods\n",
    "\n",
    "# Base Class\n",
    "\n",
    "class Shape :\n",
    "    def area(self):\n",
    "        return \"The area of the figure\"\n",
    "    \n",
    "class Rectangle(Shape):\n",
    "    def __init__(self, width, height):\n",
    "        self.width = width\n",
    "        self.height = height\n",
    "    def area(self):\n",
    "        return self.width * self.height     \n",
    "    \n",
    "    \n",
    "class Circle(Shape):\n",
    "    \n",
    "    def __init__(self, radius):\n",
    "        self.radius = radius\n",
    "    \n",
    "    def area(self):\n",
    "        return 3.14 * (self.radius **2)  \n",
    "    \n",
    "    \n",
    "# function that demonstrates polymorphism\n",
    "\n",
    "def print_area(shape):\n",
    "    print(f\"The area is {shape.area()}\")\n",
    "    \n",
    "    \n",
    "rectangle = Rectangle(3,4)\n",
    "circle = Circle(3)\n",
    "\n",
    "print_area(rectangle)\n",
    "print_area(circle)    \n",
    "         \n",
    "               "
   ]
  },
  {
   "cell_type": "markdown",
   "metadata": {},
   "source": [
    "* In python, Interface === Abstract Base Class\n",
    "\n",
    "\n",
    "Abstract Base Classes (ABCs) are used to define common methods for a group of related objects. They can enforce that derived classes implement particular methods, promoting consistency across different implementations."
   ]
  },
  {
   "cell_type": "code",
   "execution_count": 3,
   "metadata": {},
   "outputs": [
    {
     "data": {
      "text/plain": [
       "'Bike engine started'"
      ]
     },
     "execution_count": 3,
     "metadata": {},
     "output_type": "execute_result"
    }
   ],
   "source": [
    "from abc import ABC, abstractmethod\n",
    "\n",
    "# abstract class\n",
    "class Vehicle(ABC):\n",
    "    @abstractmethod\n",
    "    def start_engine(self):\n",
    "        pass\n",
    "    \n",
    "# derived class 1\n",
    "\n",
    "class Car(Vehicle):\n",
    "    def start_engine(self):\n",
    "        return \"Car Engine started\" \n",
    "    \n",
    "# derived class 2\n",
    "\n",
    "class Motorcycle(Vehicle):\n",
    "    \n",
    "    def start_engine(self):\n",
    "        return \"Bike engine started\"\n",
    "    def run(self):\n",
    "        return \"Vroom!\"  \n",
    "    \n",
    "bike = Motorcycle()\n",
    "\n",
    "bike.start_engine()\n",
    "         \n",
    "    \n",
    "    "
   ]
  },
  {
   "cell_type": "markdown",
   "metadata": {},
   "source": [
    "## Encapsulation\n",
    "\n",
    "* It is the concept of wrapping data (variables) and method (functions) together as a single unit. It restricts direct access to some of the object's components, which is a means of preventing accidental interference and misuse of data."
   ]
  },
  {
   "cell_type": "code",
   "execution_count": 4,
   "metadata": {},
   "outputs": [
    {
     "data": {
      "text/plain": [
       "'Hardik'"
      ]
     },
     "execution_count": 4,
     "metadata": {},
     "output_type": "execute_result"
    }
   ],
   "source": [
    "# Encapsulation with getter and setter methods\n",
    "\n",
    "## public , protected and private variables or access modifiers\n",
    "\n",
    "\n",
    "class Person:\n",
    "    def __init__(self, name, age):\n",
    "        self.name = name   # public variables\n",
    "        self.age = age\n",
    "        \n",
    "person = Person('Hardik', 21)\n",
    "\n",
    "person.name        \n",
    "        "
   ]
  },
  {
   "cell_type": "code",
   "execution_count": 5,
   "metadata": {},
   "outputs": [
    {
     "data": {
      "text/plain": [
       "['__class__',\n",
       " '__delattr__',\n",
       " '__dict__',\n",
       " '__dir__',\n",
       " '__doc__',\n",
       " '__eq__',\n",
       " '__format__',\n",
       " '__ge__',\n",
       " '__getattribute__',\n",
       " '__getstate__',\n",
       " '__gt__',\n",
       " '__hash__',\n",
       " '__init__',\n",
       " '__init_subclass__',\n",
       " '__le__',\n",
       " '__lt__',\n",
       " '__module__',\n",
       " '__ne__',\n",
       " '__new__',\n",
       " '__reduce__',\n",
       " '__reduce_ex__',\n",
       " '__repr__',\n",
       " '__setattr__',\n",
       " '__sizeof__',\n",
       " '__str__',\n",
       " '__subclasshook__',\n",
       " '__weakref__',\n",
       " 'age',\n",
       " 'name']"
      ]
     },
     "execution_count": 5,
     "metadata": {},
     "output_type": "execute_result"
    }
   ],
   "source": [
    "dir(person)   # name , age will be visible here as they are public\n",
    "\n"
   ]
  },
  {
   "cell_type": "code",
   "execution_count": 6,
   "metadata": {},
   "outputs": [],
   "source": [
    "class Person:\n",
    "    def __init__(self, name, age, gender):\n",
    "        self.__name = name   # private variables  (using double '_' variables become private)\n",
    "        self.__age = age\n",
    "        self.gender = gender\n",
    "        "
   ]
  },
  {
   "cell_type": "code",
   "execution_count": 7,
   "metadata": {},
   "outputs": [
    {
     "data": {
      "text/plain": [
       "['_Person__age',\n",
       " '_Person__name',\n",
       " '__class__',\n",
       " '__delattr__',\n",
       " '__dict__',\n",
       " '__dir__',\n",
       " '__doc__',\n",
       " '__eq__',\n",
       " '__format__',\n",
       " '__ge__',\n",
       " '__getattribute__',\n",
       " '__getstate__',\n",
       " '__gt__',\n",
       " '__hash__',\n",
       " '__init__',\n",
       " '__init_subclass__',\n",
       " '__le__',\n",
       " '__lt__',\n",
       " '__module__',\n",
       " '__ne__',\n",
       " '__new__',\n",
       " '__reduce__',\n",
       " '__reduce_ex__',\n",
       " '__repr__',\n",
       " '__setattr__',\n",
       " '__sizeof__',\n",
       " '__str__',\n",
       " '__subclasshook__',\n",
       " '__weakref__',\n",
       " 'gender']"
      ]
     },
     "execution_count": 7,
     "metadata": {},
     "output_type": "execute_result"
    }
   ],
   "source": [
    "person = Person('Hardik', 21, 'Male')\n",
    "dir(person)"
   ]
  },
  {
   "cell_type": "code",
   "execution_count": null,
   "metadata": {},
   "outputs": [
    {
     "ename": "AttributeError",
     "evalue": "'Person' object has no attribute '__name'",
     "output_type": "error",
     "traceback": [
      "\u001b[1;31m---------------------------------------------------------------------------\u001b[0m",
      "\u001b[1;31mAttributeError\u001b[0m                            Traceback (most recent call last)",
      "Cell \u001b[1;32mIn[13], line 1\u001b[0m\n\u001b[1;32m----> 1\u001b[0m \u001b[43mperson\u001b[49m\u001b[38;5;241;43m.\u001b[39;49m\u001b[43m__name\u001b[49m   \u001b[38;5;66;03m# cannot access name\u001b[39;00m\n",
      "\u001b[1;31mAttributeError\u001b[0m: 'Person' object has no attribute '__name'"
     ]
    }
   ],
   "source": [
    "person.__name   # cannot access name"
   ]
  },
  {
   "cell_type": "code",
   "execution_count": 6,
   "metadata": {},
   "outputs": [],
   "source": [
    "# protected variables\n",
    "\n",
    "class Person:\n",
    "    def __init__(self, name, age, gender):\n",
    "        self._name = name   # protected variables  (using single '_' variables become protected)\n",
    "        self._age = age\n",
    "        self.gender = gender   "
   ]
  },
  {
   "cell_type": "code",
   "execution_count": 15,
   "metadata": {},
   "outputs": [
    {
     "data": {
      "text/plain": [
       "['__class__',\n",
       " '__delattr__',\n",
       " '__dict__',\n",
       " '__dir__',\n",
       " '__doc__',\n",
       " '__eq__',\n",
       " '__format__',\n",
       " '__ge__',\n",
       " '__getattribute__',\n",
       " '__getstate__',\n",
       " '__gt__',\n",
       " '__hash__',\n",
       " '__init__',\n",
       " '__init_subclass__',\n",
       " '__le__',\n",
       " '__lt__',\n",
       " '__module__',\n",
       " '__ne__',\n",
       " '__new__',\n",
       " '__reduce__',\n",
       " '__reduce_ex__',\n",
       " '__repr__',\n",
       " '__setattr__',\n",
       " '__sizeof__',\n",
       " '__str__',\n",
       " '__subclasshook__',\n",
       " '__weakref__',\n",
       " '_age',\n",
       " '_name',\n",
       " 'gender']"
      ]
     },
     "execution_count": 15,
     "metadata": {},
     "output_type": "execute_result"
    }
   ],
   "source": [
    "person = Person('Hardik', 21, \"Male\")\n",
    "dir(person)"
   ]
  },
  {
   "cell_type": "code",
   "execution_count": 11,
   "metadata": {},
   "outputs": [
    {
     "name": "stdout",
     "output_type": "stream",
     "text": [
      "Hardik\n"
     ]
    }
   ],
   "source": [
    "class Employee(Person):\n",
    "    def __init__(self, name, age, gender, id):\n",
    "        super().__init__(name, age, gender)\n",
    "        self.id = id\n",
    "    def get_name(self):\n",
    "        return self._name\n",
    "    \n",
    "emp = Employee(\"Hardik\", '21', \"Male\", '232423') \n",
    "print(emp.get_name())    \n",
    "\n"
   ]
  },
  {
   "cell_type": "code",
   "execution_count": 12,
   "metadata": {},
   "outputs": [],
   "source": [
    "# encapsulation with getter and setter \n",
    "\n",
    "class Person :\n",
    "    def __init__(self, name, age):\n",
    "        self.__name= name  # private variables\n",
    "        self.__age =age\n",
    "        \n",
    "    ## getter method for name\n",
    "    def get_name(self):\n",
    "        return self.__name\n",
    "    \n",
    "    ## setter method for name\n",
    "    def set_name(self, name):\n",
    "        self.__name = name\n",
    "        \n",
    "    def get_age(self):\n",
    "        return self.__age\n",
    "    def set_age(self, age):\n",
    "        self.__age = age    \n",
    "        \n",
    "        \n",
    "        "
   ]
  },
  {
   "cell_type": "markdown",
   "metadata": {},
   "source": [
    "## Abstraction\n",
    "\n",
    "Abstraction is the concept of hiding the complex implementation details and showing only the necessary features of an object. This helps in reducing programming complexity and effort."
   ]
  },
  {
   "cell_type": "code",
   "execution_count": 15,
   "metadata": {},
   "outputs": [
    {
     "name": "stdout",
     "output_type": "stream",
     "text": [
      "Car Engine Started\n",
      "Car is being driven\n"
     ]
    }
   ],
   "source": [
    "from abc import ABC, abstractmethod\n",
    "\n",
    "## Abstract base class\n",
    "\n",
    "class Vehicle(ABC):\n",
    "    def drive(self):\n",
    "        print(\"Car is being driven\")\n",
    "    @abstractmethod\n",
    "    def start(self):\n",
    "        pass\n",
    "\n",
    "class Car(Vehicle):\n",
    "    def start(self):\n",
    "        print(\"Car Engine Started\")    \n",
    "       \n",
    "car = Car()\n",
    "car.start()\n",
    "car.drive()       \n",
    "       "
   ]
  },
  {
   "cell_type": "markdown",
   "metadata": {},
   "source": [
    "## Magic Methods\n",
    "\n",
    "Magic methods in python, also known as dunder methods (double underscore methods), are special methods that start and end with double underscores. These methods enable you to define the behavior of objects for built-in operations, such as arithmetic operations, comparisons, and more. \n",
    "\n",
    "Magic methods are predefined methods in python that you can override to change the behavior of your objects. Some common magic methods include :"
   ]
  },
  {
   "cell_type": "code",
   "execution_count": 16,
   "metadata": {},
   "outputs": [
    {
     "data": {
      "text/plain": [
       "' \\n __init__ : initialize a new instance of a class.\\n __str__ : returns a string representation of an object.\\n __repr__ : returns an official string representation of an object.\\n __len__ : returns th length of an object.\\n __getitem__ : gets an item from a container.\\n __setitem__ : sets an item in a container\\n\\n'"
      ]
     },
     "execution_count": 16,
     "metadata": {},
     "output_type": "execute_result"
    }
   ],
   "source": [
    "''' \n",
    " __init__ : initialize a new instance of a class.\n",
    " __str__ : returns a string representation of an object.\n",
    " __repr__ : returns an official string representation of an object.\n",
    " __len__ : returns th length of an object.\n",
    " __getitem__ : gets an item from a container.\n",
    " __setitem__ : sets an item in a container\n",
    "\n",
    "'''"
   ]
  },
  {
   "cell_type": "code",
   "execution_count": 30,
   "metadata": {},
   "outputs": [
    {
     "name": "stdout",
     "output_type": "stream",
     "text": [
      "name : Hardik , age : 21\n",
      "Person(name=Hardik, age=21)\n"
     ]
    }
   ],
   "source": [
    "## basics magic methods\n",
    "\n",
    "class Person:\n",
    "    def __init__(self, name, age):\n",
    "        self.name =name\n",
    "        self.age = age\n",
    "        \n",
    "    def __str__(self):\n",
    "        return  f\"name : {self.name} , age : {self.age}\"\n",
    "    \n",
    "    def __repr__(self):\n",
    "        return f\"Person(name={self.name}, age={self.age})\"\n",
    "        \n",
    "        \n",
    "person = Person('Hardik', 21)     \n",
    "print(person) \n",
    "print(repr(person))"
   ]
  },
  {
   "cell_type": "markdown",
   "metadata": {},
   "source": [
    "## Operator Overloading\n",
    "\n",
    "Operator overloading allows you to define the behavior of operators(+, - ,*  etc) for custom objects. You achieve this yb overriding specific magic methods in your class."
   ]
  },
  {
   "cell_type": "code",
   "execution_count": 31,
   "metadata": {},
   "outputs": [
    {
     "data": {
      "text/plain": [
       "'\\n__add__(self, other) : adds two objects using the + operator\\n\\n__sub__(self, other) : subtracts two objects using the - operator.\\n\\n__mul__(self, other)  : multiplies tow objects using the * operator.\\n\\n___truediv__(self, other): divides two objects using the / operator.\\n\\n__eq__(self, other) : checks if two objects are equal using the == operator.\\n\\n__lt__(self, other) : checks if one object is less than another using the < operator.\\n\\n\\n'"
      ]
     },
     "execution_count": 31,
     "metadata": {},
     "output_type": "execute_result"
    }
   ],
   "source": [
    "### common operator overloading magic methods\n",
    "\n",
    "'''\n",
    "__add__(self, other) : adds two objects using the + operator\n",
    "\n",
    "__sub__(self, other) : subtracts two objects using the - operator.\n",
    "\n",
    "__mul__(self, other)  : multiplies tow objects using the * operator.\n",
    "\n",
    "___truediv__(self, other): divides two objects using the / operator.\n",
    "\n",
    "__eq__(self, other) : checks if two objects are equal using the == operator.\n",
    "\n",
    "__lt__(self, other) : checks if one object is less than another using the < operator.\n",
    "\n",
    "\n",
    "'''"
   ]
  },
  {
   "cell_type": "code",
   "execution_count": 34,
   "metadata": {},
   "outputs": [
    {
     "name": "stdout",
     "output_type": "stream",
     "text": [
      "Vector(x=11, y=22)\n",
      "True\n"
     ]
    }
   ],
   "source": [
    "class Vector:\n",
    "    def __init__(self, x,y):\n",
    "        self.x = x\n",
    "        self.y = y\n",
    "    \n",
    "    def __add__(self, other):\n",
    "        return Vector(self.x + other.x , self.y + other.y)\n",
    "    \n",
    "    def __sub__(self, other):\n",
    "        return Vector(self.x - other.x , self.y - other.y)\n",
    "    \n",
    "    def __mul__(self, other):\n",
    "        return Vector(self.x * other.x , self.y * other.y)\n",
    "        \n",
    "    def __eq__(self, other):\n",
    "        return self.x==other.x and self.y == other.y\n",
    "    \n",
    "    def __repr__(self):\n",
    "        return f\"Vector(x={self.x}, y={self.y})\"\n",
    "    \n",
    "v1 = Vector(1,2)\n",
    "v2 = Vector(10,20)\n",
    "\n",
    "print(v1 + v2)  \n",
    "print(Vector(1,2) == Vector(1,2))      \n",
    "        "
   ]
  },
  {
   "cell_type": "markdown",
   "metadata": {},
   "source": [
    "## Custom Exception (Raise and Throw an exception)"
   ]
  },
  {
   "cell_type": "code",
   "execution_count": 35,
   "metadata": {},
   "outputs": [],
   "source": [
    "class Error(Exception):\n",
    "    pass\n",
    "\n",
    "class dobException(Error):\n",
    "    pass "
   ]
  },
  {
   "cell_type": "code",
   "execution_count": 40,
   "metadata": {},
   "outputs": [
    {
     "name": "stdout",
     "output_type": "stream",
     "text": [
      "Sorry, your age should be greater than 20 or less than 30\n"
     ]
    }
   ],
   "source": [
    "year = int(input(\"Enter the dob\"))\n",
    "age = 2024 - year\n",
    "\n",
    "try:\n",
    "    if age <= 30 and age >=20:\n",
    "        print(\"Valid Age\")\n",
    "    else :\n",
    "        raise dobException()\n",
    "except dobException:\n",
    "    print(\"Sorry, your age should be greater than 20 or less than 30\")        \n",
    "    \n",
    "    "
   ]
  },
  {
   "cell_type": "code",
   "execution_count": null,
   "metadata": {},
   "outputs": [],
   "source": []
  }
 ],
 "metadata": {
  "kernelspec": {
   "display_name": "Python 3",
   "language": "python",
   "name": "python3"
  },
  "language_info": {
   "codemirror_mode": {
    "name": "ipython",
    "version": 3
   },
   "file_extension": ".py",
   "mimetype": "text/x-python",
   "name": "python",
   "nbconvert_exporter": "python",
   "pygments_lexer": "ipython3",
   "version": "3.12.8"
  }
 },
 "nbformat": 4,
 "nbformat_minor": 2
}
