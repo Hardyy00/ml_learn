{
 "cells": [
  {
   "cell_type": "code",
   "execution_count": 1,
   "metadata": {},
   "outputs": [],
   "source": [
    "import numpy as np"
   ]
  },
  {
   "cell_type": "code",
   "execution_count": 11,
   "metadata": {},
   "outputs": [
    {
     "data": {
      "text/plain": [
       "array([[10,  5,  1,  2, 15],\n",
       "       [ 2,  6,  1,  7,  6],\n",
       "       [11,  8,  1,  4, 14],\n",
       "       [ 2, 11,  1, 14, 19],\n",
       "       [ 6, 13,  1, 18,  5]], dtype=int32)"
      ]
     },
     "execution_count": 11,
     "metadata": {},
     "output_type": "execute_result"
    }
   ],
   "source": [
    "array = np.random.randint(1, 21, size=(5,5))\n",
    "array\n",
    "\n",
    "array[:,2]= 1\n",
    "array"
   ]
  },
  {
   "cell_type": "code",
   "execution_count": 12,
   "metadata": {},
   "outputs": [
    {
     "data": {
      "text/plain": [
       "array([[ 1,  2,  3,  4],\n",
       "       [ 5,  6,  7,  8],\n",
       "       [ 9, 10, 11, 12],\n",
       "       [13, 14, 15, 16]])"
      ]
     },
     "execution_count": 12,
     "metadata": {},
     "output_type": "execute_result"
    }
   ],
   "source": [
    "array = np.arange(1,17).reshape(4,4)\n",
    "array"
   ]
  },
  {
   "cell_type": "code",
   "execution_count": 16,
   "metadata": {},
   "outputs": [
    {
     "data": {
      "text/plain": [
       "array([[ 0,  2,  3,  4],\n",
       "       [ 5,  0,  7,  8],\n",
       "       [ 9, 10,  0, 12],\n",
       "       [13, 14, 15,  0]])"
      ]
     },
     "execution_count": 16,
     "metadata": {},
     "output_type": "execute_result"
    }
   ],
   "source": [
    "np.fill_diagonal(array, 0)\n",
    "array"
   ]
  },
  {
   "cell_type": "code",
   "execution_count": 19,
   "metadata": {},
   "outputs": [
    {
     "name": "stdout",
     "output_type": "stream",
     "text": [
      "[[ 1  2  3  4  5  6]\n",
      " [ 7  8  9 10 11 12]\n",
      " [13 14 15 16 17 18]\n",
      " [19 20 21 22 23 24]\n",
      " [25 26 27 28 29 30]\n",
      " [31 32 33 34 35 36]]\n"
     ]
    },
    {
     "data": {
      "text/plain": [
       "array([[14, 15, 16],\n",
       "       [20, 21, 22],\n",
       "       [26, 27, 28]])"
      ]
     },
     "execution_count": 19,
     "metadata": {},
     "output_type": "execute_result"
    }
   ],
   "source": [
    "array = np.arange(1,37).reshape(6,6)\n",
    "print(array)\n",
    "subarray = array[2:5, 1:4]\n",
    "subarray"
   ]
  },
  {
   "cell_type": "code",
   "execution_count": 24,
   "metadata": {},
   "outputs": [
    {
     "name": "stdout",
     "output_type": "stream",
     "text": [
      "[[4 5 2 5 1]\n",
      " [7 9 5 2 5]\n",
      " [6 4 1 2 5]\n",
      " [6 5 4 9 7]\n",
      " [2 9 1 3 2]]\n"
     ]
    },
    {
     "data": {
      "text/plain": [
       "array([4, 5, 2, 5, 1, 5, 5, 7, 2, 2, 9, 1, 3, 7, 6, 6], dtype=int32)"
      ]
     },
     "execution_count": 24,
     "metadata": {},
     "output_type": "execute_result"
    }
   ],
   "source": [
    "array = np.random.randint(1,10,size=(5,5) )\n",
    "print(array)\n",
    "borders = np.concatenate( (array[0, :] , array[1 : , 4], array[4, :-1], array[1:-1, 0]) )\n",
    "borders"
   ]
  },
  {
   "cell_type": "code",
   "execution_count": 7,
   "metadata": {},
   "outputs": [
    {
     "name": "stdout",
     "output_type": "stream",
     "text": [
      "[[ 6  7  3  2]\n",
      " [10  9  9  8]\n",
      " [11 11 10  1]]\n",
      "[[ 4  1  6 10]\n",
      " [ 6  8 10 12]\n",
      " [ 7  7  1 11]]\n",
      "[[  2   6  -3  -8]\n",
      " [  4   1  -1  -4]\n",
      " [  4   4   9 -10]]\n",
      "[[10  8  9 12]\n",
      " [16 17 19 20]\n",
      " [18 18 11 12]]\n",
      "[[24  7 18 20]\n",
      " [60 72 90 96]\n",
      " [77 77 10 11]]\n",
      "[[ 1.5         7.          0.5         0.2       ]\n",
      " [ 1.66666667  1.125       0.9         0.66666667]\n",
      " [ 1.57142857  1.57142857 10.          0.09090909]]\n"
     ]
    }
   ],
   "source": [
    "array1 = np.random.randint(1,13, size=(3,4))\n",
    "array2 = np.random.randint(1, 13, size=(3,4))\n",
    "print(array1)\n",
    "print(array2)\n",
    "\n",
    "print(array1 - array2)\n",
    "print(array1 + array2)\n",
    "print(array1 * array2)\n",
    "print(array1 / array2)"
   ]
  },
  {
   "cell_type": "code",
   "execution_count": null,
   "metadata": {},
   "outputs": [
    {
     "name": "stdout",
     "output_type": "stream",
     "text": [
      "[[ 1  2  3  4]\n",
      " [ 5  6  7  8]\n",
      " [ 9 10 11 12]\n",
      " [13 14 15 16]]\n",
      "[28 32 36 40]\n",
      "[10 26 42 58]\n"
     ]
    }
   ],
   "source": [
    "array = np.arange(1, 17).reshape(4,4)\n",
    "print(array)\n",
    "\n",
    "print(np.sum(array, axis=0))  # columns sum\n",
    "print(np.sum(array, axis=1))   # rows sum\n"
   ]
  },
  {
   "cell_type": "code",
   "execution_count": 11,
   "metadata": {},
   "outputs": [
    {
     "name": "stdout",
     "output_type": "stream",
     "text": [
      "13.72\n",
      "17.0\n",
      "8.01758068247523\n",
      "64.2816\n"
     ]
    }
   ],
   "source": [
    "array = np.random.randint(1,26, size=(5,5))\n",
    "print(np.mean(array))\n",
    "print(np.median(array))\n",
    "print(np.std(array))\n",
    "print(np.var(array))"
   ]
  },
  {
   "cell_type": "code",
   "execution_count": 16,
   "metadata": {},
   "outputs": [
    {
     "name": "stdout",
     "output_type": "stream",
     "text": [
      "[[-1.54919334 -1.161895   -0.77459667]\n",
      " [-0.38729833  0.          0.38729833]\n",
      " [ 0.77459667  1.161895    1.54919334]]\n",
      "0.0\n",
      "1.0\n"
     ]
    }
   ],
   "source": [
    "array = np.arange(1, 10).reshape(3,3)\n",
    "mean = np.mean(array)\n",
    "std = np.std(array)\n",
    "\n",
    "normalized = (array - mean) /std\n",
    "print(normalized)\n",
    "print(np.mean(normalized))\n",
    "print(np.std(normalized))"
   ]
  },
  {
   "cell_type": "code",
   "execution_count": 4,
   "metadata": {},
   "outputs": [
    {
     "name": "stdout",
     "output_type": "stream",
     "text": [
      "[[8 2 4]\n",
      " [3 3 6]\n",
      " [6 7 5]]\n",
      "[1 1 1]\n",
      "[[9 3 5]\n",
      " [4 4 7]\n",
      " [7 8 6]]\n"
     ]
    }
   ],
   "source": [
    "array1 =  np.random.randint(1, 10, size=(3,3)) \n",
    "array2 = np.array([1] *3).reshape(3,)\n",
    "print(array1)\n",
    "print(array2)\n",
    "print(array1 + array2)"
   ]
  },
  {
   "cell_type": "code",
   "execution_count": null,
   "metadata": {},
   "outputs": [
    {
     "name": "stdout",
     "output_type": "stream",
     "text": [
      "[[14  4  4  5]\n",
      " [ 4 15  7 13]\n",
      " [ 7 14 12  5]\n",
      " [ 9 13  8  5]]\n",
      "[[1]\n",
      " [2]\n",
      " [3]\n",
      " [4]]\n",
      "[[13  3  3  4]\n",
      " [ 2 13  5 11]\n",
      " [ 4 11  9  2]\n",
      " [ 5  9  4  1]]\n"
     ]
    }
   ],
   "source": [
    "array = np.random.randint(1,17, size=(4,4))\n",
    "print(array)\n",
    "arr2 = np.array([1 , 2, 3, 4]).reshape(4, )\n",
    "print(arr2[: , np.newaxis])\n",
    "result = array - arr2[:, np.newaxis]  # convert it to a new axis\n",
    "print(result)"
   ]
  },
  {
   "cell_type": "code",
   "execution_count": null,
   "metadata": {},
   "outputs": [
    {
     "name": "stdout",
     "output_type": "stream",
     "text": [
      "[[5 2 8]\n",
      " [8 4 9]\n",
      " [7 8 6]]\n",
      "78.0\n",
      "[[-0.61538462  0.66666667 -0.17948718]\n",
      " [ 0.19230769 -0.33333333  0.24358974]\n",
      " [ 0.46153846 -0.33333333  0.05128205]]\n",
      "[18.91810121+0.j         -1.95905061+0.53400006j -1.95905061-0.53400006j]\n"
     ]
    }
   ],
   "source": [
    "mat = np.random.randint(1, 10, size=(3,3))\n",
    "print(mat)\n",
    "\n",
    "# determinant\n",
    "det = np.linalg.det(mat)\n",
    "print(det)\n",
    "\n",
    "# inverse\n",
    "inv = np.linalg.inv(mat)\n",
    "print(inv)\n",
    "\n",
    "# eigen value\n",
    "eigen = np.linalg.eigvals(mat)\n",
    "print(eigen)"
   ]
  },
  {
   "cell_type": "code",
   "execution_count": 31,
   "metadata": {},
   "outputs": [
    {
     "name": "stdout",
     "output_type": "stream",
     "text": [
      "[[1 2 3]\n",
      " [4 5 6]]\n",
      "[[1 2]\n",
      " [3 4]\n",
      " [5 6]]\n",
      "[[22 28]\n",
      " [49 64]]\n",
      "[[22 28]\n",
      " [49 64]]\n",
      "[[22 28]\n",
      " [49 64]]\n"
     ]
    }
   ],
   "source": [
    "arr1 = np.arange(1,7).reshape(2,3)\n",
    "arr2 = np.arange(1, 7).reshape(3,2)\n",
    "print(arr1)\n",
    "print(arr2)\n",
    "\n",
    "res = np.linalg.matmul(arr1, arr2)\n",
    "print(res)\n",
    "print(np.dot(arr1, arr2))\n",
    "print(np.matmul(arr1, arr2))"
   ]
  },
  {
   "cell_type": "code",
   "execution_count": 24,
   "metadata": {},
   "outputs": [
    {
     "name": "stdout",
     "output_type": "stream",
     "text": [
      "[[1 2 3]\n",
      " [4 5 6]\n",
      " [7 8 9]]\n",
      "[[1 2 3 4 5 6 7 8 9]]\n",
      "[[1]\n",
      " [2]\n",
      " [3]\n",
      " [4]\n",
      " [5]\n",
      " [6]\n",
      " [7]\n",
      " [8]\n",
      " [9]]\n"
     ]
    }
   ],
   "source": [
    "array = np.arange(1, 10).reshape(3,3)\n",
    "print(array)\n",
    "\n",
    "array = array.reshape(1, 9)\n",
    "print(array)\n",
    "\n",
    "array = array.reshape(9,1)\n",
    "print(array)"
   ]
  },
  {
   "cell_type": "code",
   "execution_count": 37,
   "metadata": {},
   "outputs": [
    {
     "name": "stdout",
     "output_type": "stream",
     "text": [
      "[[15 11  1 23  6]\n",
      " [12 17  9  5 11]\n",
      " [19 23 19 15 15]\n",
      " [20 13 19 21 24]\n",
      " [25 23  1 15  8]]\n",
      "[15 11  1 23  6 12 17  9  5 11 19 23 19 15 15 20 13 19 21 24 25 23  1 15\n",
      "  8]\n",
      "[[15 11  1 23  6]\n",
      " [12 17  9  5 11]\n",
      " [19 23 19 15 15]\n",
      " [20 13 19 21 24]\n",
      " [25 23  1 15  8]]\n"
     ]
    }
   ],
   "source": [
    "arr = np.random.randint(1, 26, size=(5,5))\n",
    "print(arr)\n",
    "\n",
    "arr = arr.flatten()\n",
    "print(arr)\n",
    "\n",
    "arr = arr.reshape(5,5)\n",
    "print(arr)"
   ]
  },
  {
   "cell_type": "code",
   "execution_count": 40,
   "metadata": {},
   "outputs": [
    {
     "name": "stdout",
     "output_type": "stream",
     "text": [
      "[[21 16 23 17 17]\n",
      " [25 17 22  4 14]\n",
      " [ 4  9  3 20 23]\n",
      " [ 7 11 17  3 17]\n",
      " [ 5 15 14  6  4]]\n",
      "[21 17  5  4]\n"
     ]
    }
   ],
   "source": [
    "arr = np.random.randint(1, 26, size=(5,5))\n",
    "print(arr)\n",
    "corner_elements = arr[[0 , 0, -1, -1 ], [0, -1, 0, -1]]\n",
    "print(corner_elements)"
   ]
  },
  {
   "cell_type": "code",
   "execution_count": 43,
   "metadata": {},
   "outputs": [
    {
     "name": "stdout",
     "output_type": "stream",
     "text": [
      "[[12  4 12 12]\n",
      " [14 11  3 13]\n",
      " [ 1 16 13  8]\n",
      " [ 8 12  5  3]]\n",
      "[[10  4 10 10]\n",
      " [10 10  3 10]\n",
      " [ 1 10 10  8]\n",
      " [ 8 10  5  3]]\n"
     ]
    }
   ],
   "source": [
    "arr = np.random.randint(1, 17, size=(4,4))\n",
    "print(arr)\n",
    "\n",
    "arr[arr > 10] = 10\n",
    "\n",
    "print(arr)"
   ]
  },
  {
   "cell_type": "code",
   "execution_count": null,
   "metadata": {},
   "outputs": [
    {
     "name": "stdout",
     "output_type": "stream",
     "text": [
      "[('Hardik Gaur', 21, 72.) ('Thomas Shelby', 38, 70.)\n",
      " ('Eren Yeager', 12, 58.)]\n",
      "[('Eren Yeager', 12, 58.) ('Hardik Gaur', 21, 72.)\n",
      " ('Thomas Shelby', 38, 70.)]\n"
     ]
    }
   ],
   "source": [
    "data_type = [('name', 'U20'), ('age', np.int64), ('weight', np.double) ]\n",
    "data = [('Hardik Gaur', 21, 72.0), ('Thomas Shelby',38, 70 ), ('Eren Yeager', 12, 58)]\n",
    "\n",
    "arr = np.array(data, dtype=data_type)\n",
    "print(arr)\n",
    "\n",
    "arr = np.sort(arr, order='age')   \n",
    "print(arr)"
   ]
  },
  {
   "cell_type": "code",
   "execution_count": 56,
   "metadata": {},
   "outputs": [
    {
     "name": "stdout",
     "output_type": "stream",
     "text": [
      "[( 1,   8) ( 3,  15) (89, 343)]\n",
      "[[  0.           7.28010989 346.36541398]\n",
      " [  7.28010989   0.         339.08700948]\n",
      " [346.36541398 339.08700948   0.        ]]\n"
     ]
    }
   ],
   "source": [
    "data_type = [('x' , np.int64), ('y', np.int64)]\n",
    "data = [(1, 8), (3, 15), (89, 343)]\n",
    "arr = np.array(data, dtype=data_type)\n",
    "print(arr)\n",
    "\n",
    "euclidean_distances = np.sqrt( (arr['x'][:, np.newaxis] - arr['x'] ) ** 2 + (arr['y'][:, np.newaxis] - arr['y']) ** 2 )\n",
    "print(euclidean_distances)\n",
    "\n",
    "\n",
    "\n"
   ]
  },
  {
   "cell_type": "code",
   "execution_count": null,
   "metadata": {},
   "outputs": [
    {
     "name": "stdout",
     "output_type": "stream",
     "text": [
      "[[ 7 16  7  7]\n",
      " [ 1  4  6  2]\n",
      " [14  5  8 13]\n",
      " [ 7  1  7 15]]\n",
      "[[7 -- 7 7]\n",
      " [1 4 6 2]\n",
      " [-- 5 8 --]\n",
      " [7 1 7 --]]\n",
      "62\n"
     ]
    }
   ],
   "source": [
    "import numpy.ma as ma\n",
    "\n",
    "arr = np.random.randint(1, 17, size=(4,4))\n",
    "print(arr)\n",
    "arr = ma.masked_greater(arr, 10)\n",
    "print(arr)\n",
    "sum = np.sum(arr)\n",
    "print(sum)\n"
   ]
  },
  {
   "cell_type": "code",
   "execution_count": 65,
   "metadata": {},
   "outputs": [
    {
     "name": "stdout",
     "output_type": "stream",
     "text": [
      "[[2 8 9]\n",
      " [6 8 4]\n",
      " [8 5 6]]\n",
      "[[-- 8 9]\n",
      " [6 -- 4]\n",
      " [8 5 --]]\n",
      "6.666666666666667\n",
      "[[6 8 9]\n",
      " [6 6 4]\n",
      " [8 5 6]]\n"
     ]
    }
   ],
   "source": [
    "arr = np.random.randint(1,10,size=(3,3))\n",
    "print(arr)\n",
    "\n",
    "arr = ma.masked_array(arr, mask=np.eye(3, dtype=np.int64))\n",
    "print(arr)\n",
    "\n",
    "mean = np.mean(arr)\n",
    "print(mean)\n",
    "\n",
    "arr = arr.filled(mean)\n",
    "\n",
    "print(arr)"
   ]
  },
  {
   "cell_type": "code",
   "execution_count": null,
   "metadata": {},
   "outputs": [],
   "source": []
  }
 ],
 "metadata": {
  "kernelspec": {
   "display_name": "Python 3",
   "language": "python",
   "name": "python3"
  },
  "language_info": {
   "codemirror_mode": {
    "name": "ipython",
    "version": 3
   },
   "file_extension": ".py",
   "mimetype": "text/x-python",
   "name": "python",
   "nbconvert_exporter": "python",
   "pygments_lexer": "ipython3",
   "version": "3.13.0"
  }
 },
 "nbformat": 4,
 "nbformat_minor": 2
}
