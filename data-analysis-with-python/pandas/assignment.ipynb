{
 "cells": [
  {
   "cell_type": "code",
   "execution_count": 2,
   "metadata": {},
   "outputs": [],
   "source": [
    "import numpy as np\n",
    "import pandas as pd"
   ]
  },
  {
   "cell_type": "code",
   "execution_count": 8,
   "metadata": {},
   "outputs": [
    {
     "name": "stdout",
     "output_type": "stream",
     "text": [
      "    A   B   C   D\n",
      "0  73  98  34  70\n",
      "1  59  77  36  57\n",
      "2  32  41  84  18\n",
      "3  24  72  97  38\n",
      "4  52  14  56  23\n",
      "5  13  14  98  73\n",
      "     B   C   D\n",
      "A             \n",
      "73  98  34  70\n",
      "59  77  36  57\n",
      "32  41  84  18\n",
      "24  72  97  38\n",
      "52  14  56  23\n",
      "13  14  98  73\n"
     ]
    }
   ],
   "source": [
    "\n",
    "df = pd.DataFrame(np.random.randint(1, 100, size=(6,4)), columns=['A', 'B', 'C', 'D'] )\n",
    "print(df)\n",
    "df.set_index('A', inplace=True)\n",
    "print(df)"
   ]
  },
  {
   "cell_type": "code",
   "execution_count": null,
   "metadata": {},
   "outputs": [
    {
     "name": "stdout",
     "output_type": "stream",
     "text": [
      "    A   B   C\n",
      "X  17   6  31\n",
      "Y  71   6  70\n",
      "Z  43  52  26\n",
      "6\n",
      "26\n"
     ]
    }
   ],
   "source": [
    "df = pd.DataFrame(np.random.randint(1,100, size=(3,3)) , columns=['A', 'B', 'C'], index=['X', 'Y','Z'])\n",
    "print(df)\n",
    "print(df.loc['Y']['B'])\n",
    "print(df.at['Y', 'B'])\n"
   ]
  },
  {
   "cell_type": "code",
   "execution_count": 15,
   "metadata": {},
   "outputs": [
    {
     "name": "stdout",
     "output_type": "stream",
     "text": [
      "   A  B  C\n",
      "0  2  6  4\n",
      "1  7  1  7\n",
      "2  5  9  6\n",
      "3  5  7  9\n",
      "4  2  8  9\n",
      "   A  B  C   D\n",
      "0  2  6  4  12\n",
      "1  7  1  7   7\n",
      "2  5  9  6  45\n",
      "3  5  7  9  35\n",
      "4  2  8  9  16\n"
     ]
    }
   ],
   "source": [
    "df = pd.DataFrame(np.random.randint(1,10, size=(5, 3)), columns=['A', 'B', 'C'])\n",
    "print(df)\n",
    "\n",
    "df['D'] = df['A'] * df['B']\n",
    "print(df)"
   ]
  },
  {
   "cell_type": "code",
   "execution_count": 17,
   "metadata": {},
   "outputs": [
    {
     "name": "stdout",
     "output_type": "stream",
     "text": [
      "   A  B  C\n",
      "0  3  1  1\n",
      "1  8  2  6\n",
      "2  8  4  2\n",
      "3  7  8  8\n",
      "0     5\n",
      "1    16\n",
      "2    14\n",
      "3    23\n",
      "dtype: int64\n",
      "A    26\n",
      "B    15\n",
      "C    17\n",
      "dtype: int64\n"
     ]
    }
   ],
   "source": [
    "df = pd.DataFrame(np.random.randint(1,10, size=(4,3)), columns=['A', 'B', 'C'])\n",
    "print(df)\n",
    "row_sum = np.sum(df, axis=1)\n",
    "col_sum = np.sum(df, axis=0)\n",
    "\n",
    "print(row_sum)\n",
    "print(col_sum)"
   ]
  },
  {
   "cell_type": "code",
   "execution_count": null,
   "metadata": {},
   "outputs": [
    {
     "name": "stdout",
     "output_type": "stream",
     "text": [
      "     A  B     C\n",
      "0  7.0  1  7.00\n",
      "1  8.0  8  8.00\n",
      "2  6.0  6  8.00\n",
      "3  7.0  5  2.00\n",
      "4  7.0  4  6.25\n"
     ]
    }
   ],
   "source": [
    "df = pd.DataFrame(np.random.randint(1,10, size=(5, 3)), columns=['A', 'B', 'C'])\n",
    "\n",
    "df.at[0, 'A'] =  np.nan\n",
    "df.at[4 , 'C'] = np.nan\n",
    "df.at[3, 'A'] = np.nan\n",
    "\n",
    "\n",
    "df.fillna(df.mean(), inplace=True)  ## fill na with mean of each respective columns\n",
    "\n",
    "print(df)"
   ]
  },
  {
   "cell_type": "code",
   "execution_count": 34,
   "metadata": {},
   "outputs": [
    {
     "name": "stdout",
     "output_type": "stream",
     "text": [
      "     A  B    C  D\n",
      "0  NaN  1  6.0  8\n",
      "1  8.0  9  2.0  9\n",
      "2  5.0  4  4.0  6\n",
      "3  NaN  6  9.0  8\n",
      "4  9.0  6  NaN  4\n",
      "5  9.0  7  1.0  4\n",
      "     A  B    C  D\n",
      "1  8.0  9  2.0  9\n",
      "2  5.0  4  4.0  6\n",
      "5  9.0  7  1.0  4\n"
     ]
    }
   ],
   "source": [
    "df = pd.DataFrame(np.random.randint(1,10, size=(6, 4)), columns=['A', 'B', 'C', 'D'])\n",
    "\n",
    "df.at[0, 'A'] =  np.nan\n",
    "df.at[4 , 'C'] = np.nan\n",
    "df.at[3, 'A'] = np.nan\n",
    "\n",
    "print(df)\n",
    "\n",
    "df.dropna(axis=0, inplace=True)\n",
    "\n",
    "print(df)\n",
    "\n"
   ]
  },
  {
   "cell_type": "code",
   "execution_count": 38,
   "metadata": {},
   "outputs": [
    {
     "name": "stdout",
     "output_type": "stream",
     "text": [
      "  Category  Value\n",
      "0        A      2\n",
      "1        B      8\n",
      "2        C      5\n",
      "3        A      3\n",
      "4        B      9\n",
      "5        B      1\n",
      "6        B      3\n",
      "7        A      5\n",
      "8        C      8\n",
      "9        A      4\n",
      "          sum  mean\n",
      "Category           \n",
      "A          14  3.50\n",
      "B          21  5.25\n",
      "C          13  6.50\n"
     ]
    }
   ],
   "source": [
    "mp = {\n",
    "    \n",
    "    'Category' : np.random.choice(['A', 'B', 'C'], size=10),\n",
    "    'Value' : np.random.randint(1,10, size=(10,))\n",
    "}\n",
    "\n",
    "df = pd.DataFrame(mp)\n",
    "\n",
    "print(df)\n",
    "\n",
    "result = df.groupby('Category')['Value'].agg(['sum', 'mean'])\n",
    "print(result)"
   ]
  },
  {
   "cell_type": "code",
   "execution_count": 43,
   "metadata": {},
   "outputs": [
    {
     "name": "stdout",
     "output_type": "stream",
     "text": [
      "  Product Category  Sales\n",
      "0      P2       C2      5\n",
      "1      P1       C3      3\n",
      "2      P1       C1      6\n",
      "3      P2       C1      9\n",
      "4      P1       C1      7\n",
      "5      P3       C1      1\n",
      "6      P1       C3      2\n",
      "7      P3       C3      4\n",
      "8      P1       C3      3\n",
      "9      P3       C3      4\n",
      "Category\n",
      "C1    23\n",
      "C2     5\n",
      "C3    16\n",
      "Name: Sales, dtype: int32\n"
     ]
    }
   ],
   "source": [
    "df = pd.DataFrame({\n",
    "    \n",
    "    \n",
    "    'Product' : np.random.choice(['P1','P2', 'P3'], size=10),\n",
    "    'Category' : np.random.choice(['C1', 'C2', 'C3'], size=10),\n",
    "    'Sales' :np.random.randint(1, 10, size=(10,))\n",
    "})\n",
    "print(df)\n",
    "result = df.groupby('Category')['Sales'].sum()\n",
    "print(result)"
   ]
  },
  {
   "cell_type": "code",
   "execution_count": 50,
   "metadata": {},
   "outputs": [
    {
     "name": "stdout",
     "output_type": "stream",
     "text": [
      "   A  B\n",
      "0  1  4\n",
      "1  2  5\n",
      "2  3  6\n",
      "   A   C\n",
      "0  1  10\n",
      "1  2  11\n",
      "2  3  12\n",
      "   A  B   C\n",
      "0  1  4  10\n",
      "1  2  5  11\n",
      "2  3  6  12\n"
     ]
    }
   ],
   "source": [
    "df1= pd.DataFrame({'A' : [1, 2,3], 'B': [4, 5, 6]})\n",
    "df2 = pd.DataFrame({'A' : [1, 2, 3], 'C' : [10,11,12]})\n",
    "\n",
    "print(df1)\n",
    "print(df2)\n",
    "\n",
    "res = pd.merge(df1, df2, on='A')\n",
    "print(res)\n"
   ]
  },
  {
   "cell_type": "code",
   "execution_count": null,
   "metadata": {},
   "outputs": [
    {
     "name": "stdout",
     "output_type": "stream",
     "text": [
      "   A  B  C\n",
      "0  7  7  5\n",
      "1  8  3  2\n",
      "2  1  6  8\n",
      "3  7  6  5\n",
      "4  4  7  9\n",
      "5  6  5  7\n",
      "   D  E  F\n",
      "0  9  8  2\n",
      "1  7  9  4\n",
      "2  1  9  7\n",
      "3  9  7  4\n",
      "4  6  6  9\n",
      "5  2  9  1\n",
      "   A  B  C  D  E  F\n",
      "0  7  7  5  9  8  2\n",
      "1  8  3  2  7  9  4\n",
      "2  1  6  8  1  9  7\n",
      "3  7  6  5  9  7  4\n",
      "4  4  7  9  6  6  9\n",
      "5  6  5  7  2  9  1\n",
      "    A  B  C\n",
      "0   6  3  5\n",
      "1   9  8  4\n",
      "2   1  4  7\n",
      "3   7  1  4\n",
      "4   3  4  8\n",
      "5   2  7  1\n",
      "6   5  2  3\n",
      "7   9  5  7\n",
      "8   4  4  5\n",
      "9   9  1  3\n",
      "10  9  8  4\n",
      "11  5  1  9\n"
     ]
    }
   ],
   "source": [
    "df1 = pd.DataFrame(np.random.randint(1, 10, size=(6, 3)), columns=['A' , 'B', 'C'])\n",
    "df2 = pd.DataFrame(np.random.randint(1, 10, size=(6, 3)), columns=['D' , 'E', 'F'])\n",
    "\n",
    "print(df1)\n",
    "print(df2)\n",
    "\n",
    "res = pd.concat([df1, df2], axis=1)\n",
    "print(res)\n",
    "\n",
    "df1 = pd.DataFrame(np.random.randint(1, 10, size=(6, 3)), columns=['A' , 'B', 'C'])\n",
    "df2 = pd.DataFrame(np.random.randint(1, 10, size=(6, 3)), columns=['A' , 'B', 'C'])\n",
    "\n",
    "res = pd.concat([df1, df2], axis=0).reset_index(drop=True)\n",
    "print(res)"
   ]
  },
  {
   "cell_type": "code",
   "execution_count": null,
   "metadata": {},
   "outputs": [],
   "source": []
  }
 ],
 "metadata": {
  "kernelspec": {
   "display_name": "Python 3",
   "language": "python",
   "name": "python3"
  },
  "language_info": {
   "codemirror_mode": {
    "name": "ipython",
    "version": 3
   },
   "file_extension": ".py",
   "mimetype": "text/x-python",
   "name": "python",
   "nbconvert_exporter": "python",
   "pygments_lexer": "ipython3",
   "version": "3.13.0"
  }
 },
 "nbformat": 4,
 "nbformat_minor": 2
}
