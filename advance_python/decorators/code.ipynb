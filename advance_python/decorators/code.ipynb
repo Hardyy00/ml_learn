{
 "cells": [
  {
   "cell_type": "markdown",
   "metadata": {},
   "source": [
    "# Decorators\n",
    "\n",
    "Decorators are a powerful and flexible feature in python that allows you to modify the behavior of a function or class method. They are commonly used to add functionality to functions or methods without modifying their actual code."
   ]
  },
  {
   "cell_type": "code",
   "execution_count": 7,
   "metadata": {},
   "outputs": [
    {
     "data": {
      "text/plain": [
       "'Hii'"
      ]
     },
     "execution_count": 7,
     "metadata": {},
     "output_type": "execute_result"
    }
   ],
   "source": [
    "# function copy\n",
    "\n",
    "def welcome():\n",
    "    return \"Hii\"\n",
    "\n",
    "welcome()\n",
    "\n"
   ]
  },
  {
   "cell_type": "code",
   "execution_count": 8,
   "metadata": {},
   "outputs": [],
   "source": [
    "wel = welcome\n",
    "wel()\n",
    "\n",
    "del welcome\n"
   ]
  },
  {
   "cell_type": "code",
   "execution_count": 9,
   "metadata": {},
   "outputs": [
    {
     "data": {
      "text/plain": [
       "'Hii'"
      ]
     },
     "execution_count": 9,
     "metadata": {},
     "output_type": "execute_result"
    }
   ],
   "source": [
    "wel()"
   ]
  },
  {
   "cell_type": "code",
   "execution_count": 15,
   "metadata": {},
   "outputs": [
    {
     "name": "stdout",
     "output_type": "stream",
     "text": [
      "Hii Hardik\n"
     ]
    }
   ],
   "source": [
    "# decorators\n",
    "\n",
    "\n",
    "def decorator(func):\n",
    "    \n",
    "    def wrapper():\n",
    "        \n",
    "        print(f\"Hii {func()}\")\n",
    "     \n",
    "    return wrapper\n",
    "\n",
    "@decorator\n",
    "def welcome():\n",
    "    return \"Hardik\"\n",
    "\n",
    "welcome()\n",
    "    "
   ]
  },
  {
   "cell_type": "code",
   "execution_count": 17,
   "metadata": {},
   "outputs": [],
   "source": [
    "# Decorators with arguments\n",
    "\n",
    "\n",
    "def repeat(n):\n",
    "    \n",
    "    def decorator(func):\n",
    "        def wrapper(*args, **kwargs):\n",
    "            for _ in range(n):\n",
    "                func(*args, **kwargs)\n",
    "                    \n",
    "        return wrapper\n",
    "    return decorator            "
   ]
  },
  {
   "cell_type": "code",
   "execution_count": 19,
   "metadata": {},
   "outputs": [
    {
     "name": "stdout",
     "output_type": "stream",
     "text": [
      "Hello Hardik\n",
      "Hello Hardik\n",
      "Hello Hardik\n"
     ]
    }
   ],
   "source": [
    "@repeat(3)\n",
    "def say_hello(message):\n",
    "    print(message)\n",
    "    \n",
    "    \n",
    "say_hello('Hello Hardik')    \n",
    "    \n",
    "    "
   ]
  },
  {
   "cell_type": "code",
   "execution_count": null,
   "metadata": {},
   "outputs": [],
   "source": []
  }
 ],
 "metadata": {
  "kernelspec": {
   "display_name": "Python 3",
   "language": "python",
   "name": "python3"
  },
  "language_info": {
   "codemirror_mode": {
    "name": "ipython",
    "version": 3
   },
   "file_extension": ".py",
   "mimetype": "text/x-python",
   "name": "python",
   "nbconvert_exporter": "python",
   "pygments_lexer": "ipython3",
   "version": "3.13.0"
  }
 },
 "nbformat": 4,
 "nbformat_minor": 2
}
