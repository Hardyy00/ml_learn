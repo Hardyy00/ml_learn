{
 "cells": [
  {
   "cell_type": "markdown",
   "metadata": {},
   "source": [
    "# Reference counting\n",
    "\n",
    "Reference counting is the primary method python uses to manage memory. Each object in python maintains a count of references pointing to it. When the reference count drops to zero, the memory occupied by the object is deallocated"
   ]
  },
  {
   "cell_type": "code",
   "execution_count": null,
   "metadata": {},
   "outputs": [
    {
     "name": "stdout",
     "output_type": "stream",
     "text": [
      "2\n"
     ]
    }
   ],
   "source": [
    "import sys\n",
    "\n",
    "a = []\n",
    "\n",
    "# 2 (one reference from 'a' and one from getrefcount() )\n",
    "print(sys.getrefcount(a))"
   ]
  },
  {
   "cell_type": "code",
   "execution_count": 2,
   "metadata": {},
   "outputs": [
    {
     "name": "stdout",
     "output_type": "stream",
     "text": [
      "3\n"
     ]
    }
   ],
   "source": [
    "b = a\n",
    "print(sys.getrefcount(b))"
   ]
  },
  {
   "cell_type": "code",
   "execution_count": 3,
   "metadata": {},
   "outputs": [
    {
     "name": "stdout",
     "output_type": "stream",
     "text": [
      "2\n"
     ]
    }
   ],
   "source": [
    "del b\n",
    "\n",
    "print(sys.getrefcount(a))"
   ]
  },
  {
   "cell_type": "markdown",
   "metadata": {},
   "source": [
    "#### Garbage Collection\n",
    "\n",
    "Python includes a cyclic garbage collector to handle reference cycles. Reference cycles occur when objects reference each other, preventing their reference counts from reaching zero."
   ]
  },
  {
   "cell_type": "code",
   "execution_count": 4,
   "metadata": {},
   "outputs": [],
   "source": [
    "import gc\n",
    "## enable garbage collection\n",
    "gc.enable()\n"
   ]
  },
  {
   "cell_type": "code",
   "execution_count": 5,
   "metadata": {},
   "outputs": [],
   "source": [
    "gc.disable()"
   ]
  },
  {
   "cell_type": "code",
   "execution_count": 6,
   "metadata": {},
   "outputs": [
    {
     "data": {
      "text/plain": [
       "262"
      ]
     },
     "execution_count": 6,
     "metadata": {},
     "output_type": "execute_result"
    }
   ],
   "source": [
    "gc.collect()"
   ]
  },
  {
   "cell_type": "code",
   "execution_count": 7,
   "metadata": {},
   "outputs": [
    {
     "name": "stdout",
     "output_type": "stream",
     "text": [
      "[{'collections': 64, 'collected': 1542, 'uncollectable': 0}, {'collections': 5, 'collected': 253, 'uncollectable': 0}, {'collections': 1, 'collected': 262, 'uncollectable': 0}]\n"
     ]
    }
   ],
   "source": [
    "## get garbage collection statistics\n",
    "\n",
    "print(gc.get_stats())"
   ]
  },
  {
   "cell_type": "code",
   "execution_count": 8,
   "metadata": {},
   "outputs": [
    {
     "name": "stdout",
     "output_type": "stream",
     "text": [
      "[]\n"
     ]
    }
   ],
   "source": [
    "### get unreachable objects\n",
    "\n",
    "print(gc.garbage)"
   ]
  },
  {
   "cell_type": "markdown",
   "metadata": {},
   "source": [
    "#### Memory Management Best Practices\n",
    "\n",
    "1. Use Local variables : Local variables have a shorter lifespan and are freed sooner than global variables.\n",
    "\n",
    "2. Avoid Circular References : Circular references can lead to memory leaks if not properly managed.\n",
    "\n",
    "3. Use Generators : Generators produce items one at a time and only keep one item in memory at a time, making them memory efficient.\n",
    "\n",
    "4. Profile Memory Usage : User memory profiling tools like tracemalloc and memory_profiler to identify memory leaks nd optimize memory usage."
   ]
  },
  {
   "cell_type": "code",
   "execution_count": null,
   "metadata": {},
   "outputs": [
    {
     "name": "stdout",
     "output_type": "stream",
     "text": [
      "Object obj1 created\n",
      "Object obj2 created\n"
     ]
    }
   ],
   "source": [
    "## handling circular references\n",
    "\n",
    "import gc\n",
    "\n",
    "class MyObject:\n",
    "    def __init__(self, name):\n",
    "        self.name = name\n",
    "        print(f\"Object {self.name} created\")\n",
    "        \n",
    "    def __del__(self):\n",
    "        print(f\"Object {self.name} deleted\")\n",
    "        \n",
    "## create circular reference         \n",
    "obj1 = MyObject('obj1')\n",
    "obj2 = MyObject('obj2')\n",
    "obj1.ref = obj2\n",
    "obj2.ref = obj1"
   ]
  },
  {
   "cell_type": "code",
   "execution_count": 10,
   "metadata": {},
   "outputs": [],
   "source": [
    "del obj1  # won't be garbage collected are there is a circular reference\n",
    "del obj2"
   ]
  },
  {
   "cell_type": "code",
   "execution_count": 11,
   "metadata": {},
   "outputs": [
    {
     "name": "stdout",
     "output_type": "stream",
     "text": [
      "Object obj1 deleted\n",
      "Object obj2 deleted\n"
     ]
    },
    {
     "data": {
      "text/plain": [
       "620"
      ]
     },
     "execution_count": 11,
     "metadata": {},
     "output_type": "execute_result"
    }
   ],
   "source": [
    "## manually trigger the garbage collection\n",
    "gc.collect()"
   ]
  },
  {
   "cell_type": "code",
   "execution_count": 12,
   "metadata": {},
   "outputs": [
    {
     "name": "stdout",
     "output_type": "stream",
     "text": [
      "[]\n"
     ]
    }
   ],
   "source": [
    "print(gc.garbage)"
   ]
  },
  {
   "cell_type": "code",
   "execution_count": 13,
   "metadata": {},
   "outputs": [
    {
     "name": "stdout",
     "output_type": "stream",
     "text": [
      "0\n",
      "1\n",
      "2\n",
      "3\n",
      "4\n",
      "5\n",
      "6\n",
      "7\n",
      "8\n",
      "9\n",
      "10\n"
     ]
    }
   ],
   "source": [
    "## generators for memory efficiency\n",
    "\n",
    "def generate_numbers(n):\n",
    "    for i in range(n):\n",
    "        yield i\n",
    "        \n",
    "        \n",
    "for num in generate_numbers(1000):\n",
    "    \n",
    "    print(num)\n",
    "    if num == 10:\n",
    "        break        \n",
    "\n"
   ]
  },
  {
   "cell_type": "code",
   "execution_count": 22,
   "metadata": {},
   "outputs": [],
   "source": [
    "## Profiling memory usage with tracemalloc\n",
    "\n",
    "import tracemalloc\n",
    "\n",
    "\n",
    "def create_list():\n",
    "    return [i for i in range(1000)]\n",
    "\n",
    "def main():\n",
    "    \n",
    "    tracemalloc.start()\n",
    "    create_list()\n",
    "    \n",
    "    snapshot = tracemalloc.take_snapshot()\n",
    "    top_stats = snapshot.statistics('lineno')\n",
    "    \n",
    "    print(\"[ Top 10 ]\")\n",
    "    \n",
    "    for stat in top_stats:\n",
    "        print(stat)\n"
   ]
  },
  {
   "cell_type": "code",
   "execution_count": 23,
   "metadata": {},
   "outputs": [
    {
     "name": "stdout",
     "output_type": "stream",
     "text": [
      "[ Top 10 ]\n",
      "c:\\machine_learning\\ml_learn\\memory_management\\venv\\Lib\\ast.py:54: size=3415 KiB, count=47443, average=74 B\n",
      "c:\\machine_learning\\ml_learn\\memory_management\\venv\\Lib\\site-packages\\executing\\executing.py:171: size=426 KiB, count=5788, average=75 B\n",
      "c:\\machine_learning\\ml_learn\\memory_management\\venv\\Lib\\linecache.py:146: size=314 KiB, count=3320, average=97 B\n",
      "c:\\machine_learning\\ml_learn\\memory_management\\venv\\Lib\\site-packages\\executing\\executing.py:154: size=311 KiB, count=3321, average=96 B\n",
      "c:\\machine_learning\\ml_learn\\memory_management\\venv\\Lib\\site-packages\\executing\\executing.py:153: size=150 KiB, count=1, average=150 KiB\n",
      "<frozen ntpath>:65: size=115 KiB, count=875, average=135 B\n",
      "<frozen ntpath>:737: size=115 KiB, count=874, average=135 B\n",
      "c:\\machine_learning\\ml_learn\\memory_management\\venv\\Lib\\site-packages\\executing\\executing.py:169: size=105 KiB, count=523, average=206 B\n",
      "c:\\machine_learning\\ml_learn\\memory_management\\venv\\Lib\\re\\_compiler.py:759: size=65.3 KiB, count=85, average=786 B\n",
      "c:\\machine_learning\\ml_learn\\memory_management\\venv\\Lib\\site-packages\\pygments\\token.py:26: size=55.2 KiB, count=297, average=190 B\n",
      "<frozen genericpath>:113: size=55.0 KiB, count=474, average=119 B\n",
      "c:\\machine_learning\\ml_learn\\memory_management\\venv\\Lib\\inspect.py:1028: size=50.7 KiB, count=1, average=50.7 KiB\n",
      "c:\\machine_learning\\ml_learn\\memory_management\\venv\\Lib\\site-packages\\pygments\\style.py:94: size=47.9 KiB, count=760, average=65 B\n",
      "c:\\machine_learning\\ml_learn\\memory_management\\venv\\Lib\\re\\_parser.py:617: size=47.4 KiB, count=867, average=56 B\n",
      "<string>:1: size=39.1 KiB, count=334, average=120 B\n",
      "c:\\machine_learning\\ml_learn\\memory_management\\venv\\Lib\\site-packages\\executing\\executing.py:1152: size=36.3 KiB, count=1161, average=32 B\n",
      "c:\\machine_learning\\ml_learn\\memory_management\\venv\\Lib\\site-packages\\pygments\\formatters\\terminal256.py:44: size=36.1 KiB, count=748, average=49 B\n",
      "c:\\machine_learning\\ml_learn\\memory_management\\venv\\Lib\\site-packages\\executing\\executing.py:212: size=30.9 KiB, count=1, average=30.9 KiB\n",
      "c:\\machine_learning\\ml_learn\\memory_management\\venv\\Lib\\site-packages\\pygments\\formatters\\terminal256.py:180: size=30.8 KiB, count=428, average=74 B\n",
      "c:\\machine_learning\\ml_learn\\memory_management\\venv\\Lib\\site-packages\\pygments\\formatters\\terminal256.py:242: size=29.6 KiB, count=310, average=98 B\n",
      "c:\\machine_learning\\ml_learn\\memory_management\\venv\\Lib\\site-packages\\pygments\\token.py:44: size=26.9 KiB, count=408, average=68 B\n",
      "c:\\machine_learning\\ml_learn\\memory_management\\venv\\Lib\\re\\_compiler.py:303: size=26.7 KiB, count=489, average=56 B\n",
      "c:\\machine_learning\\ml_learn\\memory_management\\venv\\Lib\\site-packages\\pygments\\lexer.py:508: size=25.8 KiB, count=330, average=80 B\n",
      "c:\\machine_learning\\ml_learn\\memory_management\\venv\\Lib\\inspect.py:1025: size=25.4 KiB, count=1, average=25.4 KiB\n",
      "c:\\machine_learning\\ml_learn\\memory_management\\venv\\Lib\\site-packages\\pygments\\lexer.py:591: size=22.4 KiB, count=380, average=60 B\n",
      "c:\\machine_learning\\ml_learn\\memory_management\\venv\\Lib\\site-packages\\executing\\executing.py:451: size=19.2 KiB, count=220, average=89 B\n",
      "c:\\machine_learning\\ml_learn\\memory_management\\venv\\Lib\\site-packages\\stack_data\\core.py:458: size=18.0 KiB, count=2, average=9240 B\n",
      "c:\\machine_learning\\ml_learn\\memory_management\\venv\\Lib\\site-packages\\pygments\\style.py:95: size=18.0 KiB, count=2, average=9240 B\n",
      "c:\\machine_learning\\ml_learn\\memory_management\\venv\\Lib\\re\\__init__.py:371: size=18.0 KiB, count=1, average=18.0 KiB\n",
      "c:\\machine_learning\\ml_learn\\memory_management\\venv\\Lib\\re\\__init__.py:363: size=18.0 KiB, count=1, average=18.0 KiB\n",
      "c:\\machine_learning\\ml_learn\\memory_management\\venv\\Lib\\site-packages\\pygments\\token.py:38: size=17.9 KiB, count=87, average=210 B\n",
      "c:\\machine_learning\\ml_learn\\memory_management\\venv\\Lib\\tracemalloc.py:558: size=15.0 KiB, count=279, average=55 B\n",
      "c:\\machine_learning\\ml_learn\\memory_management\\venv\\Lib\\site-packages\\IPython\\core\\compilerop.py:174: size=14.6 KiB, count=165, average=91 B\n",
      "c:\\machine_learning\\ml_learn\\memory_management\\venv\\Lib\\tracemalloc.py:193: size=12.6 KiB, count=269, average=48 B\n",
      "c:\\machine_learning\\ml_learn\\memory_management\\venv\\Lib\\site-packages\\stack_data\\core.py:461: size=12.1 KiB, count=204, average=61 B\n",
      "c:\\machine_learning\\ml_learn\\memory_management\\venv\\Lib\\ast.py:426: size=10.8 KiB, count=215, average=52 B\n",
      "c:\\machine_learning\\ml_learn\\memory_management\\venv\\Lib\\site-packages\\pygments\\style.py:112: size=10.2 KiB, count=204, average=51 B\n",
      "c:\\machine_learning\\ml_learn\\memory_management\\venv\\Lib\\site-packages\\pygments\\lexer.py:557: size=10104 B, count=102, average=99 B\n",
      "<frozen abc>:123: size=9666 B, count=126, average=77 B\n",
      "c:\\machine_learning\\ml_learn\\memory_management\\venv\\Lib\\json\\decoder.py:360: size=9567 B, count=152, average=63 B\n",
      "c:\\machine_learning\\ml_learn\\memory_management\\venv\\Lib\\dis.py:731: size=9408 B, count=294, average=32 B\n",
      "c:\\machine_learning\\ml_learn\\memory_management\\venv\\Lib\\tokenize.py:574: size=9176 B, count=163, average=56 B\n",
      "c:\\machine_learning\\ml_learn\\memory_management\\venv\\Lib\\site-packages\\pygments\\token.py:37: size=8936 B, count=102, average=88 B\n",
      "c:\\machine_learning\\ml_learn\\memory_management\\venv\\Lib\\site-packages\\pygments\\lexer.py:563: size=6816 B, count=39, average=175 B\n",
      "c:\\machine_learning\\ml_learn\\memory_management\\venv\\Lib\\codeop.py:117: size=5866 B, count=83, average=71 B\n",
      "c:\\machine_learning\\ml_learn\\memory_management\\venv\\Lib\\dis.py:748: size=5560 B, count=154, average=36 B\n",
      "c:\\machine_learning\\ml_learn\\memory_management\\venv\\Lib\\re\\__init__.py:339: size=5376 B, count=84, average=64 B\n",
      "c:\\machine_learning\\ml_learn\\memory_management\\venv\\Lib\\site-packages\\pygments\\style.py:70: size=5264 B, count=112, average=47 B\n",
      "c:\\machine_learning\\ml_learn\\memory_management\\venv\\Lib\\site-packages\\IPython\\core\\compilerop.py:86: size=5219 B, count=81, average=64 B\n",
      "c:\\machine_learning\\ml_learn\\memory_management\\venv\\Lib\\site-packages\\zmq\\sugar\\attrsettr.py:45: size=4747 B, count=101, average=47 B\n",
      "c:\\machine_learning\\ml_learn\\memory_management\\venv\\Lib\\dis.py:728: size=4704 B, count=147, average=32 B\n",
      "c:\\machine_learning\\ml_learn\\memory_management\\venv\\Lib\\site-packages\\traitlets\\traitlets.py:731: size=4613 B, count=73, average=63 B\n",
      "c:\\machine_learning\\ml_learn\\memory_management\\venv\\Lib\\site-packages\\pygments\\lexer.py:537: size=4608 B, count=48, average=96 B\n",
      "c:\\machine_learning\\ml_learn\\memory_management\\venv\\Lib\\site-packages\\pygments\\style.py:61: size=4496 B, count=14, average=321 B\n",
      "c:\\machine_learning\\ml_learn\\memory_management\\venv\\Lib\\site-packages\\pygments\\lexer.py:46: size=4432 B, count=14, average=317 B\n",
      "c:\\machine_learning\\ml_learn\\memory_management\\venv\\Lib\\asyncio\\selector_events.py:132: size=4337 B, count=4, average=1084 B\n",
      "c:\\machine_learning\\ml_learn\\memory_management\\venv\\Lib\\re\\_parser.py:585: size=4312 B, count=77, average=56 B\n",
      "c:\\machine_learning\\ml_learn\\memory_management\\venv\\Lib\\site-packages\\traitlets\\traitlets.py:1543: size=3858 B, count=62, average=62 B\n",
      "c:\\machine_learning\\ml_learn\\memory_management\\venv\\Lib\\dis.py:889: size=3808 B, count=119, average=32 B\n",
      "c:\\machine_learning\\ml_learn\\memory_management\\venv\\Lib\\dis.py:866: size=3808 B, count=119, average=32 B\n",
      "c:\\machine_learning\\ml_learn\\memory_management\\venv\\Lib\\site-packages\\zmq\\sugar\\socket.py:811: size=3168 B, count=18, average=176 B\n",
      "c:\\machine_learning\\ml_learn\\memory_management\\venv\\Lib\\site-packages\\jupyter_client\\session.py:1057: size=3128 B, count=26, average=120 B\n",
      "c:\\machine_learning\\ml_learn\\memory_management\\venv\\Lib\\dis.py:746: size=2968 B, count=53, average=56 B\n",
      "c:\\machine_learning\\ml_learn\\memory_management\\venv\\Lib\\site-packages\\pygments\\style.py:96: size=2904 B, count=58, average=50 B\n",
      "c:\\machine_learning\\ml_learn\\memory_management\\venv\\Lib\\site-packages\\pygments\\regexopt.py:91: size=2867 B, count=7, average=410 B\n",
      "c:\\machine_learning\\ml_learn\\memory_management\\venv\\Lib\\site-packages\\pygments\\formatters\\terminal256.py:186: size=2816 B, count=44, average=64 B\n",
      "c:\\machine_learning\\ml_learn\\memory_management\\venv\\Lib\\site-packages\\pygments\\lexer.py:534: size=2688 B, count=48, average=56 B\n",
      "c:\\machine_learning\\ml_learn\\memory_management\\venv\\Lib\\site-packages\\jupyter_client\\jsonutil.py:111: size=2550 B, count=51, average=50 B\n",
      "c:\\machine_learning\\ml_learn\\memory_management\\venv\\Lib\\site-packages\\traitlets\\traitlets.py:1514: size=2520 B, count=21, average=120 B\n",
      "c:\\machine_learning\\ml_learn\\memory_management\\venv\\Lib\\site-packages\\pygments\\lexer.py:564: size=2316 B, count=45, average=51 B\n",
      "c:\\machine_learning\\ml_learn\\memory_management\\venv\\Lib\\site-packages\\pygments\\lexer.py:532: size=2274 B, count=48, average=47 B\n",
      "c:\\machine_learning\\ml_learn\\memory_management\\venv\\Lib\\site-packages\\pygments\\lexer.py:540: size=2256 B, count=47, average=48 B\n",
      "c:\\machine_learning\\ml_learn\\memory_management\\venv\\Lib\\site-packages\\pygments\\lexer.py:573: size=2240 B, count=32, average=70 B\n",
      "c:\\machine_learning\\ml_learn\\memory_management\\venv\\Lib\\site-packages\\ipykernel\\iostream.py:346: size=2144 B, count=24, average=89 B\n",
      "c:\\machine_learning\\ml_learn\\memory_management\\venv\\Lib\\dis.py:749: size=2080 B, count=59, average=35 B\n",
      "c:\\machine_learning\\ml_learn\\memory_management\\venv\\Lib\\site-packages\\jupyter_client\\jsonutil.py:75: size=2080 B, count=10, average=208 B\n",
      "c:\\machine_learning\\ml_learn\\memory_management\\venv\\Lib\\site-packages\\pygments\\lexer.py:523: size=1824 B, count=38, average=48 B\n",
      "c:\\machine_learning\\ml_learn\\memory_management\\venv\\Lib\\site-packages\\IPython\\core\\interactiveshell.py:3073: size=1584 B, count=12, average=132 B\n",
      "c:\\machine_learning\\ml_learn\\memory_management\\venv\\Lib\\site-packages\\executing\\_position_node_finder.py:75: size=1552 B, count=4, average=388 B\n",
      "c:\\machine_learning\\ml_learn\\memory_management\\venv\\Lib\\site-packages\\pygments\\formatters\\terminal256.py:221: size=1536 B, count=2, average=768 B\n",
      "c:\\machine_learning\\ml_learn\\memory_management\\venv\\Lib\\threading.py:297: size=1520 B, count=4, average=380 B\n",
      "c:\\machine_learning\\ml_learn\\memory_management\\venv\\Lib\\site-packages\\IPython\\core\\interactiveshell.py:1590: size=1520 B, count=1, average=1520 B\n",
      "c:\\machine_learning\\ml_learn\\memory_management\\venv\\Lib\\site-packages\\pygments\\regexopt.py:78: size=1504 B, count=28, average=54 B\n",
      "c:\\machine_learning\\ml_learn\\memory_management\\venv\\Lib\\site-packages\\IPython\\core\\history.py:941: size=1436 B, count=8, average=180 B\n",
      "c:\\machine_learning\\ml_learn\\memory_management\\venv\\Lib\\site-packages\\ipykernel\\iostream.py:276: size=1312 B, count=14, average=94 B\n",
      "c:\\machine_learning\\ml_learn\\memory_management\\venv\\Lib\\site-packages\\jupyter_client\\session.py:100: size=1243 B, count=8, average=155 B\n",
      "c:\\machine_learning\\ml_learn\\memory_management\\venv\\Lib\\site-packages\\IPython\\core\\history.py:942: size=1195 B, count=3, average=398 B\n",
      "c:\\machine_learning\\ml_learn\\memory_management\\venv\\Lib\\site-packages\\IPython\\core\\interactiveshell.py:3303: size=1176 B, count=3, average=392 B\n",
      "c:\\machine_learning\\ml_learn\\memory_management\\venv\\Lib\\site-packages\\IPython\\core\\interactiveshell.py:3546: size=1168 B, count=7, average=167 B\n",
      "c:\\machine_learning\\ml_learn\\memory_management\\venv\\Lib\\site-packages\\ipykernel\\iostream.py:287: size=1152 B, count=13, average=89 B\n",
      "c:\\machine_learning\\ml_learn\\memory_management\\venv\\Lib\\site-packages\\ipykernel\\compiler.py:91: size=1140 B, count=11, average=104 B\n",
      "c:\\machine_learning\\ml_learn\\memory_management\\venv\\Lib\\site-packages\\IPython\\core\\interactiveshell.py:3486: size=1032 B, count=3, average=344 B\n",
      "c:\\machine_learning\\ml_learn\\memory_management\\venv\\Lib\\site-packages\\ipykernel\\ipkernel.py:449: size=1008 B, count=6, average=168 B\n",
      "c:\\machine_learning\\ml_learn\\memory_management\\venv\\Lib\\dis.py:200: size=942 B, count=4, average=236 B\n",
      "c:\\machine_learning\\ml_learn\\memory_management\\venv\\Lib\\asyncio\\events.py:89: size=888 B, count=10, average=89 B\n",
      "c:\\machine_learning\\ml_learn\\memory_management\\venv\\Lib\\site-packages\\ipykernel\\ipkernel.py:362: size=848 B, count=3, average=283 B\n",
      "c:\\machine_learning\\ml_learn\\memory_management\\venv\\Lib\\site-packages\\executing\\executing.py:223: size=808 B, count=3, average=269 B\n",
      "c:\\machine_learning\\ml_learn\\memory_management\\venv\\Lib\\logging\\__init__.py:1602: size=792 B, count=3, average=264 B\n",
      "<frozen genericpath>:116: size=784 B, count=14, average=56 B\n",
      "C:\\Users\\hardi\\AppData\\Local\\Temp\\ipykernel_18832\\1917905143.py:1: size=768 B, count=8, average=96 B\n",
      "c:\\machine_learning\\ml_learn\\memory_management\\venv\\Lib\\ast.py:449: size=763 B, count=14, average=54 B\n",
      "c:\\machine_learning\\ml_learn\\memory_management\\venv\\Lib\\site-packages\\zmq\\sugar\\socket.py:808: size=760 B, count=8, average=95 B\n",
      "c:\\machine_learning\\ml_learn\\memory_management\\venv\\Lib\\site-packages\\IPython\\core\\history.py:994: size=752 B, count=8, average=94 B\n",
      "c:\\machine_learning\\ml_learn\\memory_management\\venv\\Lib\\site-packages\\ipykernel\\kernelbase.py:435: size=744 B, count=3, average=248 B\n",
      "c:\\machine_learning\\ml_learn\\memory_management\\venv\\Lib\\site-packages\\ipykernel\\zmqshell.py:549: size=736 B, count=6, average=123 B\n",
      "c:\\machine_learning\\ml_learn\\memory_management\\venv\\Lib\\site-packages\\pygments\\regexopt.py:77: size=728 B, count=13, average=56 B\n",
      "c:\\machine_learning\\ml_learn\\memory_management\\venv\\Lib\\site-packages\\pygments\\formatters\\terminal256.py:136: size=728 B, count=7, average=104 B\n",
      "c:\\machine_learning\\ml_learn\\memory_management\\venv\\Lib\\site-packages\\ipykernel\\kernelbase.py:534: size=720 B, count=3, average=240 B\n",
      "c:\\machine_learning\\ml_learn\\memory_management\\venv\\Lib\\site-packages\\ipykernel\\kernelbase.py:778: size=720 B, count=2, average=360 B\n",
      "c:\\machine_learning\\ml_learn\\memory_management\\venv\\Lib\\site-packages\\pygments\\__init__.py:65: size=690 B, count=6, average=115 B\n",
      "c:\\machine_learning\\ml_learn\\memory_management\\venv\\Lib\\threading.py:294: size=688 B, count=6, average=115 B\n",
      "c:\\machine_learning\\ml_learn\\memory_management\\venv\\Lib\\site-packages\\IPython\\core\\interactiveshell.py:3099: size=672 B, count=2, average=336 B\n",
      "c:\\machine_learning\\ml_learn\\memory_management\\venv\\Lib\\site-packages\\executing\\executing.py:278: size=648 B, count=3, average=216 B\n",
      "c:\\machine_learning\\ml_learn\\memory_management\\venv\\Lib\\site-packages\\stack_data\\core.py:756: size=648 B, count=2, average=324 B\n",
      "c:\\machine_learning\\ml_learn\\memory_management\\venv\\Lib\\site-packages\\IPython\\core\\ultratb.py:807: size=648 B, count=2, average=324 B\n",
      "c:\\machine_learning\\ml_learn\\memory_management\\venv\\Lib\\site-packages\\jupyter_client\\session.py:1085: size=624 B, count=3, average=208 B\n",
      "c:\\machine_learning\\ml_learn\\memory_management\\venv\\Lib\\site-packages\\ipykernel\\kernelbase.py:770: size=624 B, count=3, average=208 B\n",
      "c:\\machine_learning\\ml_learn\\memory_management\\venv\\Lib\\site-packages\\stack_data\\core.py:587: size=624 B, count=2, average=312 B\n",
      "c:\\machine_learning\\ml_learn\\memory_management\\venv\\Lib\\site-packages\\executing\\executing.py:287: size=624 B, count=2, average=312 B\n",
      "c:\\machine_learning\\ml_learn\\memory_management\\venv\\Lib\\dis.py:659: size=590 B, count=11, average=54 B\n",
      "c:\\machine_learning\\ml_learn\\memory_management\\venv\\Lib\\dis.py:577: size=554 B, count=12, average=46 B\n",
      "c:\\machine_learning\\ml_learn\\memory_management\\venv\\Lib\\site-packages\\jupyter_client\\session.py:670: size=544 B, count=4, average=136 B\n",
      "c:\\machine_learning\\ml_learn\\memory_management\\venv\\Lib\\site-packages\\jupyter_client\\session.py:278: size=544 B, count=4, average=136 B\n",
      "c:\\machine_learning\\ml_learn\\memory_management\\venv\\Lib\\site-packages\\IPython\\core\\interactiveshell.py:3567: size=544 B, count=4, average=136 B\n",
      "c:\\machine_learning\\ml_learn\\memory_management\\venv\\Lib\\site-packages\\IPython\\core\\interactiveshell.py:3206: size=544 B, count=4, average=136 B\n",
      "c:\\machine_learning\\ml_learn\\memory_management\\venv\\Lib\\site-packages\\IPython\\core\\interactiveshell.py:3044: size=528 B, count=2, average=264 B\n",
      "c:\\machine_learning\\ml_learn\\memory_management\\venv\\Lib\\site-packages\\ipykernel\\kernelbase.py:775: size=512 B, count=4, average=128 B\n",
      "c:\\machine_learning\\ml_learn\\memory_management\\venv\\Lib\\site-packages\\pygments\\token.py:39: size=512 B, count=1, average=512 B\n",
      "c:\\machine_learning\\ml_learn\\memory_management\\venv\\Lib\\dis.py:584: size=504 B, count=9, average=56 B\n",
      "c:\\machine_learning\\ml_learn\\memory_management\\venv\\Lib\\site-packages\\IPython\\core\\interactiveshell.py:3478: size=496 B, count=11, average=45 B\n",
      "c:\\machine_learning\\ml_learn\\memory_management\\venv\\Lib\\dis.py:583: size=488 B, count=9, average=54 B\n",
      "c:\\machine_learning\\ml_learn\\memory_management\\venv\\Lib\\site-packages\\dateutil\\parser\\isoparser.py:146: size=480 B, count=10, average=48 B\n",
      "c:\\machine_learning\\ml_learn\\memory_management\\venv\\Lib\\site-packages\\executing\\executing.py:317: size=480 B, count=5, average=96 B\n",
      "c:\\machine_learning\\ml_learn\\memory_management\\venv\\Lib\\site-packages\\IPython\\core\\interactiveshell.py:3462: size=480 B, count=3, average=160 B\n",
      "c:\\machine_learning\\ml_learn\\memory_management\\venv\\Lib\\site-packages\\pygments\\style.py:92: size=456 B, count=7, average=65 B\n",
      "c:\\machine_learning\\ml_learn\\memory_management\\venv\\Lib\\site-packages\\IPython\\core\\interactiveshell.py:3192: size=448 B, count=4, average=112 B\n",
      "c:\\machine_learning\\ml_learn\\memory_management\\venv\\Lib\\site-packages\\stack_data\\utils.py:156: size=432 B, count=4, average=108 B\n",
      "c:\\machine_learning\\ml_learn\\memory_management\\venv\\Lib\\site-packages\\executing\\executing.py:316: size=432 B, count=2, average=216 B\n",
      "c:\\machine_learning\\ml_learn\\memory_management\\venv\\Lib\\site-packages\\IPython\\core\\async_helpers.py:128: size=432 B, count=2, average=216 B\n",
      "c:\\machine_learning\\ml_learn\\memory_management\\venv\\Lib\\site-packages\\ipykernel\\kernelbase.py:545: size=424 B, count=2, average=212 B\n",
      "c:\\machine_learning\\ml_learn\\memory_management\\venv\\Lib\\site-packages\\IPython\\core\\interactiveshell.py:2151: size=416 B, count=4, average=104 B\n",
      "c:\\machine_learning\\ml_learn\\memory_management\\venv\\Lib\\site-packages\\ipykernel\\ipkernel.py:480: size=416 B, count=2, average=208 B\n",
      "c:\\machine_learning\\ml_learn\\memory_management\\venv\\Lib\\asyncio\\base_events.py:460: size=408 B, count=3, average=136 B\n",
      "c:\\machine_learning\\ml_learn\\memory_management\\venv\\Lib\\site-packages\\executing\\executing.py:298: size=400 B, count=1, average=400 B\n",
      "c:\\machine_learning\\ml_learn\\memory_management\\venv\\Lib\\asyncio\\futures.py:393: size=392 B, count=3, average=131 B\n",
      "c:\\machine_learning\\ml_learn\\memory_management\\venv\\Lib\\site-packages\\ipykernel\\iostream.py:684: size=386 B, count=7, average=55 B\n",
      "c:\\machine_learning\\ml_learn\\memory_management\\venv\\Lib\\site-packages\\jupyter_client\\jsonutil.py:73: size=384 B, count=6, average=64 B\n",
      "c:\\machine_learning\\ml_learn\\memory_management\\venv\\Lib\\asyncio\\base_events.py:849: size=384 B, count=4, average=96 B\n",
      "c:\\machine_learning\\ml_learn\\memory_management\\venv\\Lib\\site-packages\\IPython\\core\\ultratb.py:804: size=368 B, count=2, average=184 B\n",
      "c:\\machine_learning\\ml_learn\\memory_management\\venv\\Lib\\asyncio\\futures.py:417: size=360 B, count=9, average=40 B\n",
      "c:\\machine_learning\\ml_learn\\memory_management\\venv\\Lib\\site-packages\\IPython\\core\\history.py:965: size=360 B, count=8, average=45 B\n",
      "c:\\machine_learning\\ml_learn\\memory_management\\venv\\Lib\\site-packages\\IPython\\core\\compilerop.py:171: size=360 B, count=5, average=72 B\n",
      "c:\\machine_learning\\ml_learn\\memory_management\\venv\\Lib\\inspect.py:266: size=360 B, count=3, average=120 B\n",
      "c:\\machine_learning\\ml_learn\\memory_management\\venv\\Lib\\site-packages\\IPython\\core\\interactiveshell.py:3193: size=352 B, count=4, average=88 B\n",
      "c:\\machine_learning\\ml_learn\\memory_management\\venv\\Lib\\site-packages\\jupyter_client\\session.py:989: size=333 B, count=6, average=56 B\n",
      "c:\\machine_learning\\ml_learn\\memory_management\\venv\\Lib\\site-packages\\executing\\executing.py:332: size=328 B, count=1, average=328 B\n",
      "c:\\machine_learning\\ml_learn\\memory_management\\venv\\Lib\\site-packages\\asttokens\\asttokens.py:43: size=328 B, count=1, average=328 B\n",
      "c:\\machine_learning\\ml_learn\\memory_management\\venv\\Lib\\site-packages\\executing\\_position_node_finder.py:117: size=320 B, count=4, average=80 B\n",
      "c:\\machine_learning\\ml_learn\\memory_management\\venv\\Lib\\asyncio\\futures.py:380: size=320 B, count=2, average=160 B\n",
      "c:\\machine_learning\\ml_learn\\memory_management\\venv\\Lib\\site-packages\\IPython\\core\\interactiveshell.py:3344: size=300 B, count=6, average=50 B\n",
      "c:\\machine_learning\\ml_learn\\memory_management\\venv\\Lib\\site-packages\\IPython\\core\\ultratb.py:650: size=298 B, count=2, average=149 B\n",
      "c:\\machine_learning\\ml_learn\\memory_management\\venv\\Lib\\site-packages\\stack_data\\utils.py:170: size=296 B, count=6, average=49 B\n",
      "c:\\machine_learning\\ml_learn\\memory_management\\venv\\Lib\\site-packages\\ipykernel\\zmqshell.py:76: size=288 B, count=1, average=288 B\n",
      "c:\\machine_learning\\ml_learn\\memory_management\\venv\\Lib\\site-packages\\ipykernel\\iostream.py:154: size=288 B, count=1, average=288 B\n",
      "c:\\machine_learning\\ml_learn\\memory_management\\venv\\Lib\\site-packages\\ipykernel\\iostream.py:142: size=288 B, count=1, average=288 B\n",
      "c:\\machine_learning\\ml_learn\\memory_management\\venv\\Lib\\site-packages\\pygments\\style.py:90: size=272 B, count=4, average=68 B\n",
      "c:\\machine_learning\\ml_learn\\memory_management\\venv\\Lib\\site-packages\\ipykernel\\iostream.py:527: size=272 B, count=4, average=68 B\n",
      "c:\\machine_learning\\ml_learn\\memory_management\\venv\\Lib\\site-packages\\tornado\\queues.py:248: size=272 B, count=2, average=136 B\n",
      "c:\\machine_learning\\ml_learn\\memory_management\\venv\\Lib\\dis.py:538: size=256 B, count=8, average=32 B\n",
      "c:\\machine_learning\\ml_learn\\memory_management\\venv\\Lib\\site-packages\\tornado\\platform\\asyncio.py:235: size=256 B, count=4, average=64 B\n",
      "c:\\machine_learning\\ml_learn\\memory_management\\venv\\Lib\\typing.py:795: size=256 B, count=2, average=128 B\n",
      "c:\\machine_learning\\ml_learn\\memory_management\\venv\\Lib\\site-packages\\IPython\\core\\interactiveshell.py:3454: size=248 B, count=7, average=35 B\n",
      "c:\\machine_learning\\ml_learn\\memory_management\\venv\\Lib\\site-packages\\ipykernel\\iostream.py:121: size=248 B, count=1, average=248 B\n",
      "c:\\machine_learning\\ml_learn\\memory_management\\venv\\Lib\\site-packages\\jupyter_client\\session.py:200: size=240 B, count=5, average=48 B\n",
      "c:\\machine_learning\\ml_learn\\memory_management\\venv\\Lib\\site-packages\\jupyter_client\\session.py:672: size=240 B, count=2, average=120 B\n",
      "c:\\machine_learning\\ml_learn\\memory_management\\venv\\Lib\\site-packages\\ipykernel\\kernelbase.py:318: size=240 B, count=2, average=120 B\n",
      "c:\\machine_learning\\ml_learn\\memory_management\\venv\\Lib\\site-packages\\executing\\executing.py:285: size=232 B, count=2, average=116 B\n",
      "c:\\machine_learning\\ml_learn\\memory_management\\venv\\Lib\\site-packages\\IPython\\core\\compilerop.py:172: size=224 B, count=8, average=28 B\n",
      "c:\\machine_learning\\ml_learn\\memory_management\\venv\\Lib\\site-packages\\executing\\executing.py:258: size=224 B, count=5, average=45 B\n",
      "c:\\machine_learning\\ml_learn\\memory_management\\venv\\Lib\\site-packages\\IPython\\core\\interactiveshell.py:3467: size=224 B, count=4, average=56 B\n",
      "c:\\machine_learning\\ml_learn\\memory_management\\venv\\Lib\\json\\encoder.py:252: size=224 B, count=2, average=112 B\n",
      "c:\\machine_learning\\ml_learn\\memory_management\\venv\\Lib\\asyncio\\futures.py:386: size=224 B, count=2, average=112 B\n",
      "c:\\machine_learning\\ml_learn\\memory_management\\venv\\Lib\\site-packages\\jupyter_client\\session.py:996: size=208 B, count=5, average=42 B\n",
      "c:\\machine_learning\\ml_learn\\memory_management\\venv\\Lib\\site-packages\\zmq\\eventloop\\zmqstream.py:551: size=208 B, count=4, average=52 B\n",
      "c:\\machine_learning\\ml_learn\\memory_management\\venv\\Lib\\re\\_compiler.py:762: size=208 B, count=2, average=104 B\n",
      "c:\\machine_learning\\ml_learn\\memory_management\\venv\\Lib\\inspect.py:2096: size=208 B, count=2, average=104 B\n",
      "c:\\machine_learning\\ml_learn\\memory_management\\venv\\Lib\\concurrent\\futures\\_base.py:330: size=208 B, count=2, average=104 B\n",
      "c:\\machine_learning\\ml_learn\\memory_management\\venv\\Lib\\site-packages\\jupyter_client\\session.py:688: size=194 B, count=2, average=97 B\n",
      "c:\\machine_learning\\ml_learn\\memory_management\\venv\\Lib\\dis.py:566: size=193 B, count=3, average=64 B\n",
      "c:\\machine_learning\\ml_learn\\memory_management\\venv\\Lib\\site-packages\\zmq\\sugar\\socket.py:812: size=192 B, count=3, average=64 B\n",
      "c:\\machine_learning\\ml_learn\\memory_management\\venv\\Lib\\site-packages\\pygments\\lexer.py:596: size=192 B, count=3, average=64 B\n",
      "c:\\machine_learning\\ml_learn\\memory_management\\venv\\Lib\\site-packages\\jupyter_client\\session.py:1053: size=192 B, count=3, average=64 B\n",
      "c:\\machine_learning\\ml_learn\\memory_management\\venv\\Lib\\site-packages\\ipykernel\\ipkernel.py:384: size=192 B, count=3, average=64 B\n",
      "c:\\machine_learning\\ml_learn\\memory_management\\venv\\Lib\\site-packages\\ipykernel\\ipkernel.py:383: size=192 B, count=3, average=64 B\n",
      "c:\\machine_learning\\ml_learn\\memory_management\\venv\\Lib\\site-packages\\jupyter_client\\session.py:750: size=192 B, count=2, average=96 B\n",
      "c:\\machine_learning\\ml_learn\\memory_management\\venv\\Lib\\inspect.py:2105: size=192 B, count=2, average=96 B\n",
      "c:\\machine_learning\\ml_learn\\memory_management\\venv\\Lib\\site-packages\\IPython\\core\\history.py:949: size=192 B, count=1, average=192 B\n",
      "c:\\machine_learning\\ml_learn\\memory_management\\venv\\Lib\\site-packages\\IPython\\core\\history.py:948: size=192 B, count=1, average=192 B\n",
      "c:\\machine_learning\\ml_learn\\memory_management\\venv\\Lib\\site-packages\\pygments\\style.py:74: size=188 B, count=4, average=47 B\n",
      "c:\\machine_learning\\ml_learn\\memory_management\\venv\\Lib\\site-packages\\stack_data\\core.py:819: size=184 B, count=5, average=37 B\n",
      "c:\\machine_learning\\ml_learn\\memory_management\\venv\\Lib\\site-packages\\asttokens\\line_numbers.py:47: size=184 B, count=2, average=92 B\n",
      "c:\\machine_learning\\ml_learn\\memory_management\\venv\\Lib\\threading.py:139: size=176 B, count=4, average=44 B\n",
      "c:\\machine_learning\\ml_learn\\memory_management\\venv\\Lib\\site-packages\\stack_data\\utils.py:155: size=176 B, count=4, average=44 B\n",
      "c:\\machine_learning\\ml_learn\\memory_management\\venv\\Lib\\site-packages\\ipykernel\\kernelbase.py:1182: size=173 B, count=2, average=86 B\n",
      "c:\\machine_learning\\ml_learn\\memory_management\\venv\\Lib\\site-packages\\jupyter_client\\session.py:604: size=170 B, count=2, average=85 B\n",
      "c:\\machine_learning\\ml_learn\\memory_management\\venv\\Lib\\site-packages\\pygments\\regexopt.py:63: size=168 B, count=3, average=56 B\n",
      "c:\\machine_learning\\ml_learn\\memory_management\\venv\\Lib\\site-packages\\pygments\\regexopt.py:39: size=168 B, count=3, average=56 B\n",
      "c:\\machine_learning\\ml_learn\\memory_management\\venv\\Lib\\threading.py:1281: size=160 B, count=2, average=80 B\n",
      "c:\\machine_learning\\ml_learn\\memory_management\\venv\\Lib\\threading.py:970: size=160 B, count=1, average=160 B\n",
      "c:\\machine_learning\\ml_learn\\memory_management\\venv\\Lib\\site-packages\\ipykernel\\kernelbase.py:570: size=160 B, count=1, average=160 B\n",
      "c:\\machine_learning\\ml_learn\\memory_management\\venv\\Lib\\site-packages\\executing\\executing.py:268: size=160 B, count=1, average=160 B\n",
      "c:\\machine_learning\\ml_learn\\memory_management\\venv\\Lib\\site-packages\\asttokens\\line_numbers.py:49: size=160 B, count=1, average=160 B\n",
      "C:\\Users\\hardi\\AppData\\Local\\Temp\\ipykernel_18832\\58324175.py:9: size=160 B, count=1, average=160 B\n",
      "C:\\Users\\hardi\\AppData\\Local\\Temp\\ipykernel_18832\\58324175.py:6: size=160 B, count=1, average=160 B\n",
      "c:\\machine_learning\\ml_learn\\memory_management\\venv\\Lib\\dis.py:562: size=156 B, count=3, average=52 B\n",
      "c:\\machine_learning\\ml_learn\\memory_management\\venv\\Lib\\site-packages\\IPython\\core\\interactiveshell.py:3472: size=152 B, count=4, average=38 B\n",
      "c:\\machine_learning\\ml_learn\\memory_management\\venv\\Lib\\re\\__init__.py:310: size=144 B, count=3, average=48 B\n",
      "c:\\machine_learning\\ml_learn\\memory_management\\venv\\Lib\\threading.py:296: size=144 B, count=2, average=72 B\n",
      "c:\\machine_learning\\ml_learn\\memory_management\\venv\\Lib\\threading.py:292: size=144 B, count=2, average=72 B\n",
      "c:\\machine_learning\\ml_learn\\memory_management\\venv\\Lib\\threading.py:287: size=144 B, count=2, average=72 B\n",
      "c:\\machine_learning\\ml_learn\\memory_management\\venv\\Lib\\threading.py:286: size=144 B, count=2, average=72 B\n",
      "c:\\machine_learning\\ml_learn\\memory_management\\venv\\Lib\\site-packages\\ipykernel\\iostream.py:722: size=144 B, count=2, average=72 B\n",
      "c:\\machine_learning\\ml_learn\\memory_management\\venv\\Lib\\site-packages\\executing\\executing.py:156: size=144 B, count=2, average=72 B\n",
      "c:\\machine_learning\\ml_learn\\memory_management\\venv\\Lib\\threading.py:1019: size=140 B, count=5, average=28 B\n",
      "c:\\machine_learning\\ml_learn\\memory_management\\venv\\Lib\\site-packages\\asttokens\\line_numbers.py:32: size=135 B, count=3, average=45 B\n",
      "c:\\machine_learning\\ml_learn\\memory_management\\venv\\Lib\\site-packages\\stack_data\\core.py:684: size=128 B, count=4, average=32 B\n",
      "c:\\machine_learning\\ml_learn\\memory_management\\venv\\Lib\\typing.py:1364: size=128 B, count=2, average=64 B\n",
      "c:\\machine_learning\\ml_learn\\memory_management\\venv\\Lib\\site-packages\\stack_data\\utils.py:145: size=128 B, count=2, average=64 B\n",
      "c:\\machine_learning\\ml_learn\\memory_management\\venv\\Lib\\site-packages\\pygments\\style.py:81: size=128 B, count=2, average=64 B\n",
      "c:\\machine_learning\\ml_learn\\memory_management\\venv\\Lib\\site-packages\\pygments\\lexer.py:654: size=128 B, count=2, average=64 B\n",
      "c:\\machine_learning\\ml_learn\\memory_management\\venv\\Lib\\site-packages\\pygments\\formatters\\terminal256.py:140: size=128 B, count=2, average=64 B\n",
      "c:\\machine_learning\\ml_learn\\memory_management\\venv\\Lib\\site-packages\\pygments\\formatters\\terminal256.py:139: size=128 B, count=2, average=64 B\n",
      "c:\\machine_learning\\ml_learn\\memory_management\\venv\\Lib\\site-packages\\pygments\\formatters\\terminal256.py:57: size=128 B, count=2, average=64 B\n",
      "c:\\machine_learning\\ml_learn\\memory_management\\venv\\Lib\\site-packages\\jupyter_client\\session.py:663: size=128 B, count=2, average=64 B\n",
      "c:\\machine_learning\\ml_learn\\memory_management\\venv\\Lib\\site-packages\\ipykernel\\kernelbase.py:761: size=128 B, count=2, average=64 B\n",
      "c:\\machine_learning\\ml_learn\\memory_management\\venv\\Lib\\site-packages\\ipykernel\\kernelbase.py:721: size=128 B, count=2, average=64 B\n",
      "c:\\machine_learning\\ml_learn\\memory_management\\venv\\Lib\\site-packages\\ipykernel\\kernelbase.py:69: size=128 B, count=2, average=64 B\n",
      "c:\\machine_learning\\ml_learn\\memory_management\\venv\\Lib\\site-packages\\ipykernel\\ipkernel.py:494: size=128 B, count=2, average=64 B\n",
      "c:\\machine_learning\\ml_learn\\memory_management\\venv\\Lib\\site-packages\\ipykernel\\ipkernel.py:476: size=128 B, count=2, average=64 B\n",
      "c:\\machine_learning\\ml_learn\\memory_management\\venv\\Lib\\site-packages\\ipykernel\\ipkernel.py:381: size=128 B, count=2, average=64 B\n",
      "c:\\machine_learning\\ml_learn\\memory_management\\venv\\Lib\\site-packages\\executing\\executing.py:441: size=128 B, count=2, average=64 B\n",
      "c:\\machine_learning\\ml_learn\\memory_management\\venv\\Lib\\site-packages\\IPython\\core\\ultratb.py:908: size=128 B, count=2, average=64 B\n",
      "c:\\machine_learning\\ml_learn\\memory_management\\venv\\Lib\\site-packages\\IPython\\core\\interactiveshell.py:3484: size=128 B, count=2, average=64 B\n",
      "c:\\machine_learning\\ml_learn\\memory_management\\venv\\Lib\\site-packages\\traitlets\\traitlets.py:1540: size=120 B, count=2, average=60 B\n",
      "c:\\machine_learning\\ml_learn\\memory_management\\venv\\Lib\\site-packages\\traitlets\\traitlets.py:654: size=120 B, count=1, average=120 B\n",
      "c:\\machine_learning\\ml_learn\\memory_management\\venv\\Lib\\asyncio\\base_events.py:812: size=120 B, count=1, average=120 B\n",
      "c:\\machine_learning\\ml_learn\\memory_management\\venv\\Lib\\typing.py:1427: size=112 B, count=2, average=56 B\n",
      "c:\\machine_learning\\ml_learn\\memory_management\\venv\\Lib\\site-packages\\zmq\\sugar\\poll.py:50: size=112 B, count=2, average=56 B\n",
      "c:\\machine_learning\\ml_learn\\memory_management\\venv\\Lib\\site-packages\\zmq\\eventloop\\zmqstream.py:630: size=112 B, count=2, average=56 B\n",
      "c:\\machine_learning\\ml_learn\\memory_management\\venv\\Lib\\site-packages\\stack_data\\core.py:828: size=112 B, count=2, average=56 B\n",
      "c:\\machine_learning\\ml_learn\\memory_management\\venv\\Lib\\site-packages\\stack_data\\core.py:740: size=112 B, count=2, average=56 B\n",
      "c:\\machine_learning\\ml_learn\\memory_management\\venv\\Lib\\site-packages\\stack_data\\core.py:615: size=112 B, count=2, average=56 B\n",
      "c:\\machine_learning\\ml_learn\\memory_management\\venv\\Lib\\site-packages\\pygments\\regexopt.py:66: size=112 B, count=2, average=56 B\n",
      "c:\\machine_learning\\ml_learn\\memory_management\\venv\\Lib\\site-packages\\pygments\\formatters\\terminal256.py:138: size=112 B, count=2, average=56 B\n",
      "c:\\machine_learning\\ml_learn\\memory_management\\venv\\Lib\\site-packages\\jupyter_client\\session.py:1088: size=112 B, count=2, average=56 B\n",
      "c:\\machine_learning\\ml_learn\\memory_management\\venv\\Lib\\site-packages\\jupyter_client\\session.py:738: size=112 B, count=2, average=56 B\n",
      "c:\\machine_learning\\ml_learn\\memory_management\\venv\\Lib\\site-packages\\executing\\_position_node_finder.py:512: size=112 B, count=2, average=56 B\n",
      "c:\\machine_learning\\ml_learn\\memory_management\\venv\\Lib\\site-packages\\IPython\\core\\ultratb.py:875: size=112 B, count=2, average=56 B\n",
      "c:\\machine_learning\\ml_learn\\memory_management\\venv\\Lib\\site-packages\\IPython\\core\\payload.py:54: size=112 B, count=2, average=56 B\n",
      "c:\\machine_learning\\ml_learn\\memory_management\\venv\\Lib\\site-packages\\IPython\\core\\async_helpers.py:150: size=112 B, count=2, average=56 B\n",
      "c:\\machine_learning\\ml_learn\\memory_management\\venv\\Lib\\concurrent\\futures\\_base.py:335: size=112 B, count=2, average=56 B\n",
      "c:\\machine_learning\\ml_learn\\memory_management\\venv\\Lib\\concurrent\\futures\\_base.py:334: size=112 B, count=2, average=56 B\n",
      "c:\\machine_learning\\ml_learn\\memory_management\\venv\\Lib\\site-packages\\ipykernel\\ipkernel.py:470: size=100 B, count=2, average=50 B\n",
      "c:\\machine_learning\\ml_learn\\memory_management\\venv\\Lib\\asyncio\\base_events.py:2011: size=96 B, count=3, average=32 B\n",
      "c:\\machine_learning\\ml_learn\\memory_management\\venv\\Lib\\site-packages\\tornado\\concurrent.py:193: size=96 B, count=2, average=48 B\n",
      "c:\\machine_learning\\ml_learn\\memory_management\\venv\\Lib\\site-packages\\stack_data\\core.py:455: size=96 B, count=2, average=48 B\n",
      "c:\\machine_learning\\ml_learn\\memory_management\\venv\\Lib\\site-packages\\IPython\\core\\history.py:952: size=96 B, count=2, average=48 B\n",
      "c:\\machine_learning\\ml_learn\\memory_management\\venv\\Lib\\warnings.py:196: size=96 B, count=1, average=96 B\n",
      "c:\\machine_learning\\ml_learn\\memory_management\\venv\\Lib\\site-packages\\stack_data\\core.py:101: size=88 B, count=2, average=44 B\n",
      "c:\\machine_learning\\ml_learn\\memory_management\\venv\\Lib\\site-packages\\executing\\_position_node_finder.py:531: size=88 B, count=1, average=88 B\n",
      "c:\\machine_learning\\ml_learn\\memory_management\\venv\\Lib\\inspect.py:2499: size=88 B, count=1, average=88 B\n",
      "c:\\machine_learning\\ml_learn\\memory_management\\venv\\Lib\\threading.py:352: size=80 B, count=2, average=40 B\n",
      "c:\\machine_learning\\ml_learn\\memory_management\\venv\\Lib\\site-packages\\stack_data\\core.py:824: size=80 B, count=2, average=40 B\n",
      "c:\\machine_learning\\ml_learn\\memory_management\\venv\\Lib\\site-packages\\IPython\\core\\interactiveshell.py:3568: size=80 B, count=2, average=40 B\n",
      "c:\\machine_learning\\ml_learn\\memory_management\\venv\\Lib\\warnings.py:168: size=80 B, count=1, average=80 B\n",
      "c:\\machine_learning\\ml_learn\\memory_management\\venv\\Lib\\site-packages\\IPython\\core\\tbtools.py:302: size=80 B, count=1, average=80 B\n",
      "c:\\machine_learning\\ml_learn\\memory_management\\venv\\Lib\\fnmatch.py:46: size=80 B, count=1, average=80 B\n",
      "c:\\machine_learning\\ml_learn\\memory_management\\venv\\Lib\\site-packages\\IPython\\core\\history.py:996: size=72 B, count=1, average=72 B\n",
      "c:\\machine_learning\\ml_learn\\memory_management\\venv\\Lib\\site-packages\\tornado\\queues.py:318: size=64 B, count=2, average=32 B\n",
      "c:\\machine_learning\\ml_learn\\memory_management\\venv\\Lib\\site-packages\\stack_data\\core.py:616: size=64 B, count=2, average=32 B\n",
      "c:\\machine_learning\\ml_learn\\memory_management\\venv\\Lib\\concurrent\\futures\\_base.py:421: size=64 B, count=2, average=32 B\n",
      "c:\\machine_learning\\ml_learn\\memory_management\\venv\\Lib\\threading.py:656: size=64 B, count=1, average=64 B\n",
      "c:\\machine_learning\\ml_learn\\memory_management\\venv\\Lib\\site-packages\\zmq\\sugar\\socket.py:746: size=64 B, count=1, average=64 B\n",
      "c:\\machine_learning\\ml_learn\\memory_management\\venv\\Lib\\site-packages\\ipykernel\\kernelbase.py:563: size=64 B, count=1, average=64 B\n",
      "c:\\machine_learning\\ml_learn\\memory_management\\venv\\Lib\\site-packages\\ipykernel\\ipkernel.py:294: size=64 B, count=1, average=64 B\n",
      "c:\\machine_learning\\ml_learn\\memory_management\\venv\\Lib\\site-packages\\ipykernel\\ipkernel.py:291: size=64 B, count=1, average=64 B\n",
      "c:\\machine_learning\\ml_learn\\memory_management\\venv\\Lib\\site-packages\\executing\\executing.py:259: size=64 B, count=1, average=64 B\n",
      "c:\\machine_learning\\ml_learn\\memory_management\\venv\\Lib\\site-packages\\executing\\executing.py:217: size=64 B, count=1, average=64 B\n",
      "c:\\machine_learning\\ml_learn\\memory_management\\venv\\Lib\\site-packages\\asttokens\\line_numbers.py:35: size=64 B, count=1, average=64 B\n",
      "c:\\machine_learning\\ml_learn\\memory_management\\venv\\Lib\\site-packages\\IPython\\core\\interactiveshell.py:3535: size=64 B, count=1, average=64 B\n",
      "c:\\machine_learning\\ml_learn\\memory_management\\venv\\Lib\\site-packages\\IPython\\core\\interactiveshell.py:3272: size=64 B, count=1, average=64 B\n",
      "c:\\machine_learning\\ml_learn\\memory_management\\venv\\Lib\\site-packages\\IPython\\core\\interactiveshell.py:3269: size=64 B, count=1, average=64 B\n",
      "c:\\machine_learning\\ml_learn\\memory_management\\venv\\Lib\\warnings.py:493: size=56 B, count=1, average=56 B\n",
      "c:\\machine_learning\\ml_learn\\memory_management\\venv\\Lib\\site-packages\\traitlets\\traitlets.py:1534: size=56 B, count=1, average=56 B\n",
      "c:\\machine_learning\\ml_learn\\memory_management\\venv\\Lib\\site-packages\\IPython\\core\\interactiveshell.py:3452: size=56 B, count=1, average=56 B\n",
      "c:\\machine_learning\\ml_learn\\memory_management\\venv\\Lib\\site-packages\\IPython\\core\\history.py:1041: size=56 B, count=1, average=56 B\n",
      "c:\\machine_learning\\ml_learn\\memory_management\\venv\\Lib\\site-packages\\IPython\\core\\history.py:1030: size=56 B, count=1, average=56 B\n",
      "c:\\machine_learning\\ml_learn\\memory_management\\venv\\Lib\\site-packages\\IPython\\core\\completer.py:3149: size=56 B, count=1, average=56 B\n",
      "c:\\machine_learning\\ml_learn\\memory_management\\venv\\Lib\\re\\_compiler.py:756: size=56 B, count=1, average=56 B\n",
      "c:\\machine_learning\\ml_learn\\memory_management\\venv\\Lib\\re\\_compiler.py:379: size=56 B, count=1, average=56 B\n",
      "c:\\machine_learning\\ml_learn\\memory_management\\venv\\Lib\\re\\_compiler.py:377: size=56 B, count=1, average=56 B\n",
      "c:\\machine_learning\\ml_learn\\memory_management\\venv\\Lib\\fnmatch.py:52: size=56 B, count=1, average=56 B\n",
      "c:\\machine_learning\\ml_learn\\memory_management\\venv\\Lib\\asyncio\\base_events.py:795: size=56 B, count=1, average=56 B\n",
      "c:\\machine_learning\\ml_learn\\memory_management\\venv\\Lib\\fnmatch.py:192: size=53 B, count=1, average=53 B\n",
      "c:\\machine_learning\\ml_learn\\memory_management\\venv\\Lib\\tracemalloc.py:207: size=48 B, count=1, average=48 B\n",
      "c:\\machine_learning\\ml_learn\\memory_management\\venv\\Lib\\site-packages\\stack_data\\core.py:153: size=48 B, count=1, average=48 B\n",
      "c:\\machine_learning\\ml_learn\\memory_management\\venv\\Lib\\site-packages\\IPython\\core\\interactiveshell.py:3474: size=48 B, count=1, average=48 B\n",
      "C:\\Users\\hardi\\AppData\\Local\\Temp\\ipykernel_18832\\1137618051.py:20: size=48 B, count=1, average=48 B\n",
      "c:\\machine_learning\\ml_learn\\memory_management\\venv\\Lib\\site-packages\\IPython\\core\\prefilter.py:317: size=47 B, count=1, average=47 B\n",
      "c:\\machine_learning\\ml_learn\\memory_management\\venv\\Lib\\site-packages\\stack_data\\core.py:763: size=32 B, count=2, average=16 B\n",
      "c:\\machine_learning\\ml_learn\\memory_management\\venv\\Lib\\site-packages\\jupyter_client\\session.py:603: size=32 B, count=1, average=32 B\n",
      "c:\\machine_learning\\ml_learn\\memory_management\\venv\\Lib\\site-packages\\ipykernel\\iostream.py:637: size=32 B, count=1, average=32 B\n",
      "c:\\machine_learning\\ml_learn\\memory_management\\venv\\Lib\\site-packages\\ipykernel\\iostream.py:168: size=32 B, count=1, average=32 B\n",
      "c:\\machine_learning\\ml_learn\\memory_management\\venv\\Lib\\site-packages\\executing\\executing.py:248: size=32 B, count=1, average=32 B\n",
      "c:\\machine_learning\\ml_learn\\memory_management\\venv\\Lib\\site-packages\\IPython\\core\\completer.py:2898: size=32 B, count=1, average=32 B\n",
      "c:\\machine_learning\\ml_learn\\memory_management\\venv\\Lib\\site-packages\\IPython\\core\\completer.py:871: size=32 B, count=1, average=32 B\n",
      "c:\\machine_learning\\ml_learn\\memory_management\\venv\\Lib\\site-packages\\IPython\\core\\compilerop.py:192: size=32 B, count=1, average=32 B\n",
      "c:\\machine_learning\\ml_learn\\memory_management\\venv\\Lib\\queue.py:177: size=32 B, count=1, average=32 B\n",
      "c:\\machine_learning\\ml_learn\\memory_management\\venv\\Lib\\linecache.py:100: size=32 B, count=1, average=32 B\n",
      "c:\\machine_learning\\ml_learn\\memory_management\\venv\\Lib\\inspect.py:1309: size=32 B, count=1, average=32 B\n",
      "c:\\machine_learning\\ml_learn\\memory_management\\venv\\Lib\\asyncio\\base_events.py:815: size=32 B, count=1, average=32 B\n",
      "c:\\machine_learning\\ml_learn\\memory_management\\venv\\Lib\\site-packages\\ipykernel\\kernelbase.py:560: size=28 B, count=1, average=28 B\n"
     ]
    }
   ],
   "source": [
    "main()"
   ]
  },
  {
   "cell_type": "code",
   "execution_count": null,
   "metadata": {},
   "outputs": [],
   "source": []
  }
 ],
 "metadata": {
  "kernelspec": {
   "display_name": "Python 3",
   "language": "python",
   "name": "python3"
  },
  "language_info": {
   "codemirror_mode": {
    "name": "ipython",
    "version": 3
   },
   "file_extension": ".py",
   "mimetype": "text/x-python",
   "name": "python",
   "nbconvert_exporter": "python",
   "pygments_lexer": "ipython3",
   "version": "3.13.0"
  }
 },
 "nbformat": 4,
 "nbformat_minor": 2
}
