{
 "cells": [
  {
   "cell_type": "markdown",
   "metadata": {},
   "source": [
    "SQLite is a self-contained, serverless and zero-configuration database engine that is used for embedded database system."
   ]
  },
  {
   "cell_type": "code",
   "execution_count": 2,
   "metadata": {},
   "outputs": [],
   "source": [
    "import sqlite3"
   ]
  },
  {
   "cell_type": "code",
   "execution_count": 3,
   "metadata": {},
   "outputs": [
    {
     "data": {
      "text/plain": [
       "<sqlite3.Connection at 0x1aa082f4c70>"
      ]
     },
     "execution_count": 3,
     "metadata": {},
     "output_type": "execute_result"
    }
   ],
   "source": [
    "connection = sqlite3.connect(\"example.db\")\n",
    "connection"
   ]
  },
  {
   "cell_type": "code",
   "execution_count": 4,
   "metadata": {},
   "outputs": [],
   "source": [
    "cursor = connection.cursor()"
   ]
  },
  {
   "cell_type": "code",
   "execution_count": 5,
   "metadata": {},
   "outputs": [],
   "source": [
    "## create a table\n",
    "\n",
    "cursor.execute('''\n",
    "Create table if not exists employees(\n",
    "                id Integer Primary Key,\n",
    "                name Text Not Null,\n",
    "                age Integer, \n",
    "                department text\n",
    "                            )\n",
    "''')\n",
    "\n",
    "## commit the changes\n",
    "connection.commit()"
   ]
  },
  {
   "cell_type": "code",
   "execution_count": 8,
   "metadata": {},
   "outputs": [
    {
     "data": {
      "text/plain": [
       "<sqlite3.Cursor at 0x1aa084f2ec0>"
      ]
     },
     "execution_count": 8,
     "metadata": {},
     "output_type": "execute_result"
    }
   ],
   "source": [
    "cursor.execute('''\n",
    "       \n",
    "       select * from employees               \n",
    "               \n",
    "               \n",
    "               ''')"
   ]
  },
  {
   "cell_type": "code",
   "execution_count": 9,
   "metadata": {},
   "outputs": [],
   "source": [
    "## insert the data in sqlite table\n",
    "\n",
    "cursor.execute('''\n",
    " \n",
    "Insert into employees(name, age, department)\n",
    "            Values('Hardik', 22, 'SDE')  ,\n",
    "                   ('Thomas Shelby', 40 , 'Businessman'),\n",
    "                   ('Ken Kaneki' , 30, 'Ghoul')              \n",
    "               \n",
    "               ''')\n",
    "\n",
    "connection.commit()\n"
   ]
  },
  {
   "cell_type": "code",
   "execution_count": 11,
   "metadata": {},
   "outputs": [
    {
     "name": "stdout",
     "output_type": "stream",
     "text": [
      "(1, 'Hardik', 22, 'SDE')\n",
      "(2, 'Thomas Shelby', 40, 'Businessman')\n",
      "(3, 'Ken Kaneki', 30, 'Ghoul')\n"
     ]
    }
   ],
   "source": [
    "## query the data from the table\n",
    "\n",
    "cursor.execute('''\n",
    "select * from employees   \n",
    "              \n",
    "''')\n",
    "\n",
    "result = cursor.fetchall()\n",
    "\n",
    "## print the queried data\n",
    "\n",
    "for row in result:\n",
    "    print(row)\n"
   ]
  },
  {
   "cell_type": "code",
   "execution_count": 13,
   "metadata": {},
   "outputs": [],
   "source": [
    "## update the data\n",
    "\n",
    "cursor.execute('''\n",
    "\n",
    "update employees\n",
    "set age=35\n",
    "where name=\"Ken Kaneki\"  \n",
    "               \n",
    "               ''')\n",
    "\n",
    "\n",
    "connection.commit()"
   ]
  },
  {
   "cell_type": "code",
   "execution_count": 14,
   "metadata": {},
   "outputs": [
    {
     "name": "stdout",
     "output_type": "stream",
     "text": [
      "(1, 'Hardik', 22, 'SDE')\n",
      "(2, 'Thomas Shelby', 40, 'Businessman')\n",
      "(3, 'Ken Kaneki', 35, 'Ghoul')\n"
     ]
    }
   ],
   "source": [
    "## query the data from the table\n",
    "\n",
    "cursor.execute('''\n",
    "select * from employees   \n",
    "              \n",
    "''')\n",
    "\n",
    "result = cursor.fetchall()\n",
    "\n",
    "## print the queried data\n",
    "\n",
    "for row in result:\n",
    "    print(row)\n"
   ]
  },
  {
   "cell_type": "code",
   "execution_count": 15,
   "metadata": {},
   "outputs": [],
   "source": [
    "## delete the data\n",
    "\n",
    "cursor.execute('''\n",
    "\n",
    "Delete from employees\n",
    " where name=\"Thomas Shelby\"               \n",
    "               \n",
    "               ''')\n",
    "\n",
    "connection.commit()"
   ]
  },
  {
   "cell_type": "code",
   "execution_count": 16,
   "metadata": {},
   "outputs": [
    {
     "name": "stdout",
     "output_type": "stream",
     "text": [
      "(1, 'Hardik', 22, 'SDE')\n",
      "(3, 'Ken Kaneki', 35, 'Ghoul')\n"
     ]
    }
   ],
   "source": [
    "## query the data from the table\n",
    "\n",
    "cursor.execute('''\n",
    "select * from employees   \n",
    "              \n",
    "''')\n",
    "\n",
    "result = cursor.fetchall()\n",
    "\n",
    "## print the queried data\n",
    "\n",
    "for row in result:\n",
    "    print(row)\n"
   ]
  },
  {
   "cell_type": "markdown",
   "metadata": {},
   "source": [
    "### working with sales data"
   ]
  },
  {
   "cell_type": "code",
   "execution_count": 19,
   "metadata": {},
   "outputs": [],
   "source": [
    "connection = sqlite3.connect('sales.db')\n",
    "\n",
    "cursor.execute('''\n",
    "         create table if not exists sales(\n",
    "             \n",
    "             id integer primary key,\n",
    "             date text not null,\n",
    "             product text not null,\n",
    "             sales integer,\n",
    "             region text\n",
    "         )      \n",
    "               \n",
    "               ''')\n",
    "\n",
    "sales_data = [\n",
    "    ('2023-01-01', 'Product1', 100, 'North'),\n",
    "    ('2023-01-02', 'Product2', 200, 'South'),\n",
    "    ('2023-01-03', 'Product1', 150, 'East'),\n",
    "    ('2023-01-04', 'Product3', 250, 'West'),\n",
    "    ('2023-01-05', 'Product2', 300, 'North')\n",
    "]\n",
    "\n",
    "cursor.executemany('''\n",
    " Insert into sales(date, product, sales, region)\n",
    "    values(?, ?, ?, ?)                  \n",
    "                   \n",
    "                   ''', sales_data)\n",
    "\n",
    "\n",
    "connection.commit()"
   ]
  },
  {
   "cell_type": "code",
   "execution_count": 21,
   "metadata": {},
   "outputs": [
    {
     "name": "stdout",
     "output_type": "stream",
     "text": [
      "(1, '2023-01-01', 'Product1', 100, 'North')\n",
      "(2, '2023-01-02', 'Product2', 200, 'South')\n",
      "(3, '2023-01-03', 'Product1', 150, 'East')\n",
      "(4, '2023-01-04', 'Product3', 250, 'West')\n",
      "(5, '2023-01-05', 'Product2', 300, 'North')\n"
     ]
    }
   ],
   "source": [
    "cursor.execute(\"select * from sales\")\n",
    "result = cursor.fetchall()\n",
    "\n",
    "for row in result:\n",
    "    print(row)"
   ]
  },
  {
   "cell_type": "code",
   "execution_count": 22,
   "metadata": {},
   "outputs": [],
   "source": [
    "## close the connection\n",
    "connection.close()"
   ]
  },
  {
   "cell_type": "code",
   "execution_count": null,
   "metadata": {},
   "outputs": [],
   "source": []
  }
 ],
 "metadata": {
  "kernelspec": {
   "display_name": "Python 3",
   "language": "python",
   "name": "python3"
  },
  "language_info": {
   "codemirror_mode": {
    "name": "ipython",
    "version": 3
   },
   "file_extension": ".py",
   "mimetype": "text/x-python",
   "name": "python",
   "nbconvert_exporter": "python",
   "pygments_lexer": "ipython3",
   "version": "3.13.0"
  }
 },
 "nbformat": 4,
 "nbformat_minor": 2
}
